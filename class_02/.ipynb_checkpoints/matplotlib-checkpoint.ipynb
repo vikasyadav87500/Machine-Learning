{
 "cells": [
  {
   "cell_type": "code",
   "execution_count": 2,
   "metadata": {},
   "outputs": [],
   "source": [
    "import numpy as np\n",
    "import pandas as pd\n",
    "import matplotlib.pyplot as plt\n",
    "%matplotlib inline"
   ]
  },
  {
   "cell_type": "code",
   "execution_count": 1,
   "metadata": {},
   "outputs": [
    {
     "ename": "NameError",
     "evalue": "name 'np' is not defined",
     "output_type": "error",
     "traceback": [
      "\u001b[0;31m---------------------------------------------------------------------------\u001b[0m",
      "\u001b[0;31mNameError\u001b[0m                                 Traceback (most recent call last)",
      "\u001b[0;32m<ipython-input-1-e01880bdb0fc>\u001b[0m in \u001b[0;36m<module>\u001b[0;34m\u001b[0m\n\u001b[0;32m----> 1\u001b[0;31m \u001b[0mx\u001b[0m\u001b[0;34m=\u001b[0m\u001b[0mnp\u001b[0m\u001b[0;34m.\u001b[0m\u001b[0marange\u001b[0m\u001b[0;34m(\u001b[0m\u001b[0;36m10\u001b[0m\u001b[0;34m)\u001b[0m\u001b[0;34m\u001b[0m\u001b[0m\n\u001b[0m\u001b[1;32m      2\u001b[0m \u001b[0mprint\u001b[0m\u001b[0;34m(\u001b[0m\u001b[0mx\u001b[0m\u001b[0;34m)\u001b[0m\u001b[0;34m\u001b[0m\u001b[0m\n",
      "\u001b[0;31mNameError\u001b[0m: name 'np' is not defined"
     ]
    }
   ],
   "source": [
    "x=np.arange(10)\n",
    "print(x)"
   ]
  },
  {
   "cell_type": "code",
   "execution_count": null,
   "metadata": {},
   "outputs": [],
   "source": [
    "x_square=x**2\n",
    "x_cube=x**3\n",
    "print(x_square)\n",
    "print(x_cube)"
   ]
  },
  {
   "cell_type": "code",
   "execution_count": null,
   "metadata": {},
   "outputs": [],
   "source": [
    "#How to plot using matplotlib\n",
    "plt.plot(x,color=\"green\")\n",
    "plt.show()"
   ]
  },
  {
   "cell_type": "code",
   "execution_count": null,
   "metadata": {},
   "outputs": [],
   "source": [
    "plt.plot(x,x_square,color=\"orange\",label=\"square of x\")\n",
    "plt.plot(x,x_cube,color=\"green\",label=\"cube of x\")\n",
    "plt.legend()\n",
    "plt.xlabel(\"X\")\n",
    "plt.ylabel(\"values\")\n",
    "plt.title(\"$X^2$ vs $X^3$\")\n",
    "plt.show()"
   ]
  },
  {
   "cell_type": "code",
   "execution_count": null,
   "metadata": {},
   "outputs": [],
   "source": [
    "#plot a scatter plot\n",
    "plt.scatter(x,x_square,label=\"$x^2$\", color=\"red\",marker=\"^\")\n",
    "plt.legend()\n",
    "plt.xlabel(\"x\")\n",
    "plt.ylabel(\"x square\")\n",
    "plt.show()"
   ]
  },
  {
   "cell_type": "code",
   "execution_count": null,
   "metadata": {},
   "outputs": [],
   "source": [
    "#Plotting Bar Charts\n",
    "values=np.random.randint(2,10,8)*15\n",
    "indices=np.arange(8)\n",
    "\n",
    "print(values)\n",
    "print(indices)"
   ]
  },
  {
   "cell_type": "code",
   "execution_count": null,
   "metadata": {},
   "outputs": [],
   "source": [
    "plt.bar(indices,values)\n",
    "plt.show()"
   ]
  },
  {
   "cell_type": "code",
   "execution_count": null,
   "metadata": {},
   "outputs": [],
   "source": []
  },
  {
   "cell_type": "code",
   "execution_count": null,
   "metadata": {},
   "outputs": [],
   "source": [
    "#Adding more bars int he same plot\n",
    "values2=np.random.randint(2,10,8)*15\n",
    "indices2=np.arange(8)\n",
    "\n",
    "plt.bar(indices,values,color=\"red\",label=\"red_label\",width=0.3)\n",
    "plt.bar(indices2+0.3,values2,color=\"blue\",label=\"blue_label\",width=0.3)\n",
    "plt.legend()\n",
    "plt.show()"
   ]
  },
  {
   "cell_type": "code",
   "execution_count": null,
   "metadata": {},
   "outputs": [],
   "source": [
    "#How to plot a histogram\n",
    "#Lets first make a data which belongs to normal distribution.Normal Distribution is made for continuous random variables\n",
    "\n",
    "#Explain random variable,Discrete random variable and continous random variable\n",
    "# The first parameter means mean ,second parameter means std,third parameter means total number of values where all the values\n",
    "# will belong to the normal distribution\n",
    "data=np.random.normal(1,10,30000)\n",
    "print(data)\n",
    "print(data.shape)"
   ]
  },
  {
   "cell_type": "code",
   "execution_count": null,
   "metadata": {},
   "outputs": [],
   "source": [
    "plt.hist(data)"
   ]
  },
  {
   "cell_type": "code",
   "execution_count": null,
   "metadata": {},
   "outputs": [],
   "source": [
    "#Lets set the density parameter to true\n",
    "plt.hist(data,bins=5,density=\"True\")"
   ]
  },
  {
   "cell_type": "code",
   "execution_count": null,
   "metadata": {},
   "outputs": [],
   "source": [
    "np.histogram(data,bins=5,density=\"True\")"
   ]
  },
  {
   "cell_type": "code",
   "execution_count": null,
   "metadata": {},
   "outputs": [],
   "source": [
    "#Creating a pie chart\n",
    "labels=[\"AI\",\"DL\",\"DS\",\"ML\"]\n",
    "counts=[40,80,60,320]\n",
    "plt.pie(counts,labels=labels,shadow=\"True\")\n",
    "plt.show()"
   ]
  },
  {
   "cell_type": "code",
   "execution_count": null,
   "metadata": {},
   "outputs": [],
   "source": [
    "plt.pie(counts,labels=labels,shadow=\"True\",explode=(0,1,0,1))\n",
    "plt.show()"
   ]
  },
  {
   "cell_type": "code",
   "execution_count": null,
   "metadata": {},
   "outputs": [],
   "source": [
    "plt.pie(counts,labels=labels,colors=['pink','purple','blue','black'], shadow=\"True\",explode=(0,1,1,0))\n",
    "# plt.pie?\n",
    "plt.show()"
   ]
  },
  {
   "cell_type": "code",
   "execution_count": null,
   "metadata": {},
   "outputs": [],
   "source": [
    "#Plotting subplots\n",
    "science=[10,50,40,99,100,45]\n",
    "maths=[100,100,95,40,1,34]\n",
    "english=[80,50,48,36,73,25]\n",
    "computer=[100,100,100,30,25,45]\n",
    "\n",
    "\n",
    "plt.figure()\n",
    "plt.subplot(2,2,1)\n",
    "plt.grid()\n",
    "plt.plot(science,color=\"blue\",label=\"science\")\n",
    "plt.legend()\n",
    "plt.xlabel(\"Student No\")\n",
    "plt.ylabel(\"Marks\")\n",
    "plt.subplot(2,2,2)\n",
    "#plt.grid()\n",
    "plt.plot(maths,color=\"green\",label=\"maths\")\n",
    "plt.legend()\n",
    "plt.xlabel(\"Student No\")\n",
    "plt.ylabel(\"Marks\")\n",
    "plt.subplot(2,2,3)\n",
    "plt.grid()\n",
    "plt.plot(english,color=\"orange\",label=\"english\")\n",
    "plt.legend()\n",
    "plt.xlabel(\"Student No\")\n",
    "plt.ylabel(\"Marks\")\n",
    "plt.subplot(2,2,4)\n",
    "plt.grid()\n",
    "plt.plot(english,color=\"maroon\",label=\"english\")\n",
    "plt.legend()\n",
    "plt.xlabel(\"Student No\")\n",
    "plt.ylabel(\"Marks\")\n",
    "plt.tight_layout()\n",
    "plt.show()"
   ]
  },
  {
   "cell_type": "code",
   "execution_count": null,
   "metadata": {},
   "outputs": [],
   "source": [
    "plt.subplot?"
   ]
  }
 ],
 "metadata": {
  "kernelspec": {
   "display_name": "Python 3",
   "language": "python",
   "name": "python3"
  },
  "language_info": {
   "codemirror_mode": {
    "name": "ipython",
    "version": 3
   },
   "file_extension": ".py",
   "mimetype": "text/x-python",
   "name": "python",
   "nbconvert_exporter": "python",
   "pygments_lexer": "ipython3",
   "version": "3.7.0"
  }
 },
 "nbformat": 4,
 "nbformat_minor": 2
}
