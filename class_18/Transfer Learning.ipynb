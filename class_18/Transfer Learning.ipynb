{
 "cells": [
  {
   "cell_type": "code",
   "execution_count": 1,
   "metadata": {},
   "outputs": [
    {
     "name": "stderr",
     "output_type": "stream",
     "text": [
      "Using Theano backend.\n"
     ]
    }
   ],
   "source": [
    "import numpy as np\n",
    "from matplotlib import pyplot as plt\n",
    "import time\n",
    "\n",
    "import keras\n",
    "from keras.datasets import mnist, cifar10\n",
    "from keras.models import Sequential\n",
    "from keras.layers import Dense, Conv2D, Flatten, Activation, MaxPool2D, Dropout\n",
    "from keras.utils import np_utils"
   ]
  },
  {
   "cell_type": "markdown",
   "metadata": {},
   "source": [
    "# MNIST"
   ]
  },
  {
   "cell_type": "code",
   "execution_count": 2,
   "metadata": {},
   "outputs": [],
   "source": [
    "(X_train, y_train), (X_test, y_test) = mnist.load_data()"
   ]
  },
  {
   "cell_type": "code",
   "execution_count": 3,
   "metadata": {},
   "outputs": [
    {
     "name": "stdout",
     "output_type": "stream",
     "text": [
      "(60000, 28, 28) (60000,) (10000, 28, 28) (10000,)\n"
     ]
    }
   ],
   "source": [
    "print(X_train.shape, y_train.shape, X_test.shape, y_test.shape)"
   ]
  },
  {
   "cell_type": "code",
   "execution_count": 4,
   "metadata": {},
   "outputs": [],
   "source": [
    "below_5_train = (y_train < 5)\n",
    "below_5_test = (y_test < 5)\n",
    "\n",
    "other_5_train = (y_train >= 5)\n",
    "other_5_test = (y_test >= 5)"
   ]
  },
  {
   "cell_type": "code",
   "execution_count": null,
   "metadata": {},
   "outputs": [],
   "source": []
  },
  {
   "cell_type": "code",
   "execution_count": 5,
   "metadata": {},
   "outputs": [
    {
     "data": {
      "text/plain": [
       "((35735, 28, 28), (35735,), (34265, 28, 28), (34265,))"
      ]
     },
     "execution_count": 5,
     "metadata": {},
     "output_type": "execute_result"
    }
   ],
   "source": [
    "X_below_5 = np.concatenate([X_train[below_5_train], X_test[below_5_test]])\n",
    "y_below_5 = np.concatenate([y_train[below_5_train], y_test[below_5_test]])\n",
    "\n",
    "X_other_5 = np.concatenate([X_train[other_5_train], X_test[other_5_test]])\n",
    "y_other_5 = np.concatenate([y_train[other_5_train], y_test[other_5_test]])\n",
    "\n",
    "X_below_5.shape, y_below_5.shape, X_other_5.shape, y_other_5.shape"
   ]
  },
  {
   "cell_type": "code",
   "execution_count": 6,
   "metadata": {},
   "outputs": [
    {
     "name": "stdout",
     "output_type": "stream",
     "text": [
      "35735 34265\n"
     ]
    }
   ],
   "source": [
    "print(below_5_test.sum() + below_5_train.sum(),\n",
    "      other_5_test.sum() + other_5_train.sum()\n",
    "     )"
   ]
  },
  {
   "cell_type": "code",
   "execution_count": 7,
   "metadata": {},
   "outputs": [],
   "source": [
    "X_below_5 = X_below_5.reshape((-1,28,28,1)) / 255\n",
    "X_other_5 = X_other_5.reshape((-1,28,28,1)) / 255"
   ]
  },
  {
   "cell_type": "code",
   "execution_count": 8,
   "metadata": {},
   "outputs": [
    {
     "name": "stdout",
     "output_type": "stream",
     "text": [
      "(35735, 5) (34265, 10)\n"
     ]
    }
   ],
   "source": [
    "y_below_5 = np_utils.to_categorical(y_below_5)\n",
    "y_other_5 = np_utils.to_categorical(y_other_5)\n",
    "print(y_below_5.shape, y_other_5.shape)"
   ]
  },
  {
   "cell_type": "code",
   "execution_count": null,
   "metadata": {},
   "outputs": [],
   "source": []
  },
  {
   "cell_type": "code",
   "execution_count": 9,
   "metadata": {},
   "outputs": [
    {
     "name": "stdout",
     "output_type": "stream",
     "text": [
      "(28588, 28, 28, 1) (28588, 5)\n",
      "(27412, 28, 28, 1) (27412, 10)\n"
     ]
    }
   ],
   "source": [
    "split_below_5 = int(0.8 * X_below_5.shape[0])\n",
    "split_other_5 = int(0.8 * X_other_5.shape[0])\n",
    "\n",
    "X_train_below_5 = X_below_5[:split_below_5]\n",
    "y_train_below_5 = y_below_5[:split_below_5]\n",
    "\n",
    "X_test_below_5 = X_below_5[split_below_5:]\n",
    "y_test_below_5 = y_below_5[split_below_5:]\n",
    "\n",
    "\n",
    "X_train_other_5 = X_other_5[:split_other_5]\n",
    "y_train_other_5 = y_other_5[:split_other_5]\n",
    "\n",
    "X_test_other_5 = X_other_5[split_other_5:]\n",
    "y_test_other_5 = y_other_5[split_other_5:]\n",
    "\n",
    "print(X_train_below_5.shape, y_train_below_5.shape)\n",
    "print(X_train_other_5.shape, y_train_other_5.shape)"
   ]
  },
  {
   "cell_type": "code",
   "execution_count": 10,
   "metadata": {},
   "outputs": [
    {
     "name": "stdout",
     "output_type": "stream",
     "text": [
      "_________________________________________________________________\n",
      "Layer (type)                 Output Shape              Param #   \n",
      "=================================================================\n",
      "conv2d_1 (Conv2D)            (None, 24, 24, 8)         208       \n",
      "_________________________________________________________________\n",
      "conv2d_2 (Conv2D)            (None, 20, 20, 16)        3216      \n",
      "_________________________________________________________________\n",
      "max_pooling2d_1 (MaxPooling2 (None, 10, 10, 16)        0         \n",
      "_________________________________________________________________\n",
      "conv2d_3 (Conv2D)            (None, 8, 8, 32)          4640      \n",
      "_________________________________________________________________\n",
      "flatten_1 (Flatten)          (None, 2048)              0         \n",
      "_________________________________________________________________\n",
      "dropout_1 (Dropout)          (None, 2048)              0         \n",
      "_________________________________________________________________\n",
      "dense_1 (Dense)              (None, 128)               262272    \n",
      "_________________________________________________________________\n",
      "activation_1 (Activation)    (None, 128)               0         \n",
      "_________________________________________________________________\n",
      "dense_2 (Dense)              (None, 5)                 645       \n",
      "_________________________________________________________________\n",
      "activation_2 (Activation)    (None, 5)                 0         \n",
      "=================================================================\n",
      "Total params: 270,981\n",
      "Trainable params: 270,981\n",
      "Non-trainable params: 0\n",
      "_________________________________________________________________\n"
     ]
    }
   ],
   "source": [
    "model_below_5 = Sequential()\n",
    "\n",
    "model_below_5.add(Conv2D(8, 5, input_shape=(28, 28, 1), activation='relu'))\n",
    "model_below_5.add(Conv2D(16, 5, activation='relu'))\n",
    "model_below_5.add(MaxPool2D(pool_size=(2, 2)))\n",
    "model_below_5.add(Conv2D(32, 3, activation='relu'))\n",
    "model_below_5.add(Flatten())\n",
    "model_below_5.add(Dropout(0.4))\n",
    "\n",
    "model_below_5.add(Dense(128))\n",
    "model_below_5.add(Activation('relu'))\n",
    "\n",
    "model_below_5.add(Dense(5))\n",
    "model_below_5.add(Activation('softmax'))\n",
    "\n",
    "model_below_5.summary()\n",
    "model_below_5.compile(loss='categorical_crossentropy', optimizer='adam', metrics=['accuracy'])\n"
   ]
  },
  {
   "cell_type": "code",
   "execution_count": 11,
   "metadata": {},
   "outputs": [
    {
     "name": "stdout",
     "output_type": "stream",
     "text": [
      "Train on 28588 samples, validate on 7147 samples\n",
      "Epoch 1/5\n",
      "28588/28588 [==============================] - 25s 883us/step - loss: 0.1362 - acc: 0.9594 - val_loss: 0.0247 - val_acc: 0.9930\n",
      "Epoch 2/5\n",
      "28588/28588 [==============================] - 25s 875us/step - loss: 0.0324 - acc: 0.9901 - val_loss: 0.0125 - val_acc: 0.9968\n",
      "Epoch 3/5\n",
      "28588/28588 [==============================] - 26s 916us/step - loss: 0.0206 - acc: 0.9934 - val_loss: 0.0081 - val_acc: 0.9989\n",
      "Epoch 4/5\n",
      "28588/28588 [==============================] - 25s 860us/step - loss: 0.0146 - acc: 0.9951 - val_loss: 0.0095 - val_acc: 0.9968\n",
      "Epoch 5/5\n",
      "28588/28588 [==============================] - 25s 861us/step - loss: 0.0109 - acc: 0.9963 - val_loss: 0.0066 - val_acc: 0.9982\n",
      "Time Taken:  131.42366218566895\n"
     ]
    }
   ],
   "source": [
    "t0 = time.time()\n",
    "hist_below_5 = model_below_5.fit(X_train_below_5, y_train_below_5,\n",
    "                         epochs=5,\n",
    "                         shuffle=True,\n",
    "                         batch_size=100,\n",
    "                         validation_data=(X_test_below_5, y_test_below_5),\n",
    "                    )\n",
    "\n",
    "print(\"Time Taken: \", time.time() - t0)"
   ]
  },
  {
   "cell_type": "code",
   "execution_count": 12,
   "metadata": {},
   "outputs": [
    {
     "name": "stdout",
     "output_type": "stream",
     "text": [
      "False\n",
      "False\n",
      "False\n",
      "False\n",
      "False\n",
      "False\n",
      "True\n",
      "True\n",
      "True\n",
      "True\n"
     ]
    }
   ],
   "source": [
    "for l in model_below_5.layers[:6]:\n",
    "    l.trainable = False\n",
    "    \n",
    "for l in model_below_5.layers:\n",
    "    print (l.trainable)"
   ]
  },
  {
   "cell_type": "code",
   "execution_count": 13,
   "metadata": {},
   "outputs": [
    {
     "name": "stdout",
     "output_type": "stream",
     "text": [
      "_________________________________________________________________\n",
      "Layer (type)                 Output Shape              Param #   \n",
      "=================================================================\n",
      "conv2d_1 (Conv2D)            (None, 24, 24, 8)         208       \n",
      "_________________________________________________________________\n",
      "conv2d_2 (Conv2D)            (None, 20, 20, 16)        3216      \n",
      "_________________________________________________________________\n",
      "max_pooling2d_1 (MaxPooling2 (None, 10, 10, 16)        0         \n",
      "_________________________________________________________________\n",
      "conv2d_3 (Conv2D)            (None, 8, 8, 32)          4640      \n",
      "_________________________________________________________________\n",
      "flatten_1 (Flatten)          (None, 2048)              0         \n",
      "_________________________________________________________________\n",
      "dropout_1 (Dropout)          (None, 2048)              0         \n",
      "_________________________________________________________________\n",
      "dense_3 (Dense)              (None, 128)               262272    \n",
      "_________________________________________________________________\n",
      "activation_3 (Activation)    (None, 128)               0         \n",
      "_________________________________________________________________\n",
      "dense_4 (Dense)              (None, 10)                1290      \n",
      "_________________________________________________________________\n",
      "activation_4 (Activation)    (None, 10)                0         \n",
      "=================================================================\n",
      "Total params: 271,626\n",
      "Trainable params: 263,562\n",
      "Non-trainable params: 8,064\n",
      "_________________________________________________________________\n"
     ]
    }
   ],
   "source": [
    "model_other_5 = Sequential(model_below_5.layers[:6])\n",
    "\n",
    "model_other_5.add(Dense(128))\n",
    "model_other_5.add(Activation('relu'))\n",
    "model_other_5.add(Dense(10))\n",
    "model_other_5.add(Activation('softmax'))\n",
    "\n",
    "model_other_5.summary()\n",
    "model_other_5.compile(loss='categorical_crossentropy', optimizer='adam', metrics=['accuracy'])\n"
   ]
  },
  {
   "cell_type": "code",
   "execution_count": 14,
   "metadata": {},
   "outputs": [
    {
     "name": "stdout",
     "output_type": "stream",
     "text": [
      "Train on 27412 samples, validate on 6853 samples\n",
      "Epoch 1/5\n",
      "27412/27412 [==============================] - 12s 435us/step - loss: 0.1087 - acc: 0.9679 - val_loss: 0.0351 - val_acc: 0.9892\n",
      "Epoch 2/5\n",
      "27412/27412 [==============================] - 12s 421us/step - loss: 0.0429 - acc: 0.9864 - val_loss: 0.0312 - val_acc: 0.9902\n",
      "Epoch 3/5\n",
      "27412/27412 [==============================] - 11s 388us/step - loss: 0.0330 - acc: 0.9894 - val_loss: 0.0276 - val_acc: 0.9911\n",
      "Epoch 4/5\n",
      "27412/27412 [==============================] - 12s 431us/step - loss: 0.0292 - acc: 0.9909 - val_loss: 0.0232 - val_acc: 0.9930\n",
      "Epoch 5/5\n",
      "27412/27412 [==============================] - 12s 436us/step - loss: 0.0267 - acc: 0.9912 - val_loss: 0.0272 - val_acc: 0.9918\n",
      "Time Taken:  58.95063495635986\n"
     ]
    }
   ],
   "source": [
    "t0 = time.time()\n",
    "hist_other_5 = model_other_5.fit(X_train_other_5, y_train_other_5,\n",
    "                         epochs=5,\n",
    "                         shuffle=True,\n",
    "                         batch_size=100,\n",
    "                         validation_data=(X_test_other_5, y_test_other_5),\n",
    "                    )\n",
    "\n",
    "print(\"Time Taken: \", time.time() - t0)"
   ]
  },
  {
   "cell_type": "markdown",
   "metadata": {},
   "source": []
  },
  {
   "cell_type": "markdown",
   "metadata": {},
   "source": [
    "# CIFAR-10"
   ]
  },
  {
   "cell_type": "code",
   "execution_count": 70,
   "metadata": {},
   "outputs": [],
   "source": [
    "(X_train, y_train), (X_test, y_test) = cifar10.load_data()"
   ]
  },
  {
   "cell_type": "code",
   "execution_count": 71,
   "metadata": {},
   "outputs": [
    {
     "name": "stdout",
     "output_type": "stream",
     "text": [
      "(50000, 32, 32, 3) (50000, 1) (10000, 32, 32, 3) (10000, 1)\n"
     ]
    }
   ],
   "source": [
    "print(X_train.shape, y_train.shape, X_test.shape, y_test.shape)"
   ]
  },
  {
   "cell_type": "code",
   "execution_count": 72,
   "metadata": {},
   "outputs": [],
   "source": [
    "below_5_train = (y_train < 5).flatten()\n",
    "below_5_test = (y_test < 5).flatten()\n",
    "\n",
    "other_5_train = (y_train >= 5).flatten()\n",
    "other_5_test = (y_test >= 5).flatten()"
   ]
  },
  {
   "cell_type": "code",
   "execution_count": 73,
   "metadata": {},
   "outputs": [
    {
     "data": {
      "image/png": "[encoded data removed]",
      "text/plain": [
       "<Figure size 432x288 with 4 Axes>"
      ]
     },
     "metadata": {
      "needs_background": "light"
     },
     "output_type": "display_data"
    }
   ],
   "source": [
    "plt.figure(0)\n",
    "\n",
    "plt.subplot(2, 2, 1)\n",
    "plt.imshow(X_train[0])\n",
    "\n",
    "plt.subplot(2, 2, 2)\n",
    "plt.imshow(X_train[1])\n",
    "\n",
    "plt.subplot(2, 2, 3)\n",
    "plt.imshow(X_train[2])\n",
    "\n",
    "plt.subplot(2, 2, 4)\n",
    "plt.imshow(X_train[3])\n",
    "\n",
    "plt.show()"
   ]
  },
  {
   "cell_type": "code",
   "execution_count": 74,
   "metadata": {},
   "outputs": [
    {
     "data": {
      "text/plain": [
       "((30000, 32, 32, 3), (30000, 1), (30000, 32, 32, 3), (30000, 1))"
      ]
     },
     "execution_count": 74,
     "metadata": {},
     "output_type": "execute_result"
    }
   ],
   "source": [
    "X_below_5 = np.concatenate([X_train[below_5_train], X_test[below_5_test]])\n",
    "y_below_5 = np.concatenate([y_train[below_5_train], y_test[below_5_test]])\n",
    "\n",
    "X_other_5 = np.concatenate([X_train[other_5_train], X_test[other_5_test]])\n",
    "y_other_5 = np.concatenate([y_train[other_5_train], y_test[other_5_test]])\n",
    "\n",
    "X_below_5.shape, y_below_5.shape, X_other_5.shape, y_other_5.shape"
   ]
  },
  {
   "cell_type": "code",
   "execution_count": 75,
   "metadata": {},
   "outputs": [
    {
     "name": "stdout",
     "output_type": "stream",
     "text": [
      "30000 30000\n"
     ]
    }
   ],
   "source": [
    "print(below_5_test.sum() + below_5_train.sum(),\n",
    "      other_5_test.sum() + other_5_train.sum()\n",
    "     )"
   ]
  },
  {
   "cell_type": "code",
   "execution_count": 76,
   "metadata": {},
   "outputs": [],
   "source": [
    "X_below_5 = X_below_5.reshape((-1,32,32,3))\n",
    "X_other_5 = X_other_5.reshape((-1,32,32,3))"
   ]
  },
  {
   "cell_type": "code",
   "execution_count": 77,
   "metadata": {},
   "outputs": [],
   "source": [
    "y_other_5 = y_other_5 - 5 # To reduce the 5-9 to 0-4 (for num_classes to be 5 rather than 10)"
   ]
  },
  {
   "cell_type": "code",
   "execution_count": 78,
   "metadata": {},
   "outputs": [
    {
     "name": "stdout",
     "output_type": "stream",
     "text": [
      "(30000, 5) (30000, 5)\n"
     ]
    }
   ],
   "source": [
    "y_below_5 = np_utils.to_categorical(y_below_5)\n",
    "y_other_5 = np_utils.to_categorical(y_other_5)\n",
    "print(y_below_5.shape, y_other_5.shape)"
   ]
  },
  {
   "cell_type": "code",
   "execution_count": null,
   "metadata": {},
   "outputs": [],
   "source": []
  },
  {
   "cell_type": "code",
   "execution_count": 79,
   "metadata": {},
   "outputs": [
    {
     "name": "stdout",
     "output_type": "stream",
     "text": [
      "(24000, 32, 32, 3) (24000, 5)\n",
      "(24000, 32, 32, 3) (24000, 5)\n"
     ]
    }
   ],
   "source": [
    "split_below_5 = int(0.8 * X_below_5.shape[0])\n",
    "split_other_5 = int(0.8 * X_other_5.shape[0])\n",
    "\n",
    "X_train_below_5 = X_below_5[:split_below_5]\n",
    "y_train_below_5 = y_below_5[:split_below_5]\n",
    "\n",
    "X_test_below_5 = X_below_5[split_below_5:]\n",
    "y_test_below_5 = y_below_5[split_below_5:]\n",
    "\n",
    "\n",
    "X_train_other_5 = X_other_5[:split_other_5]\n",
    "y_train_other_5 = y_other_5[:split_other_5]\n",
    "\n",
    "X_test_other_5 = X_other_5[split_other_5:]\n",
    "y_test_other_5 = y_other_5[split_other_5:]\n",
    "\n",
    "print(X_train_below_5.shape, y_train_below_5.shape)\n",
    "print(X_train_other_5.shape, y_train_other_5.shape)"
   ]
  },
  {
   "cell_type": "code",
   "execution_count": 80,
   "metadata": {},
   "outputs": [
    {
     "name": "stdout",
     "output_type": "stream",
     "text": [
      "_________________________________________________________________\n",
      "Layer (type)                 Output Shape              Param #   \n",
      "=================================================================\n",
      "conv2d_10 (Conv2D)           (None, 28, 28, 8)         608       \n",
      "_________________________________________________________________\n",
      "conv2d_11 (Conv2D)           (None, 24, 24, 16)        3216      \n",
      "_________________________________________________________________\n",
      "max_pooling2d_4 (MaxPooling2 (None, 12, 12, 16)        0         \n",
      "_________________________________________________________________\n",
      "conv2d_12 (Conv2D)           (None, 10, 10, 32)        4640      \n",
      "_________________________________________________________________\n",
      "flatten_4 (Flatten)          (None, 3200)              0         \n",
      "_________________________________________________________________\n",
      "dropout_4 (Dropout)          (None, 3200)              0         \n",
      "_________________________________________________________________\n",
      "dense_11 (Dense)             (None, 128)               409728    \n",
      "_________________________________________________________________\n",
      "activation_11 (Activation)   (None, 128)               0         \n",
      "_________________________________________________________________\n",
      "dense_12 (Dense)             (None, 5)                 645       \n",
      "_________________________________________________________________\n",
      "activation_12 (Activation)   (None, 5)                 0         \n",
      "=================================================================\n",
      "Total params: 418,837\n",
      "Trainable params: 418,837\n",
      "Non-trainable params: 0\n",
      "_________________________________________________________________\n"
     ]
    }
   ],
   "source": [
    "model_below_5 = Sequential()\n",
    "\n",
    "model_below_5.add(Conv2D(8, 5, input_shape=(32, 32, 3), activation='relu'))\n",
    "model_below_5.add(Conv2D(16, 5, activation='relu'))\n",
    "model_below_5.add(MaxPool2D(pool_size=(2, 2)))\n",
    "model_below_5.add(Conv2D(32, 3, activation='relu'))\n",
    "model_below_5.add(Flatten())\n",
    "model_below_5.add(Dropout(0.4))\n",
    "\n",
    "model_below_5.add(Dense(128))\n",
    "model_below_5.add(Activation('relu'))\n",
    "\n",
    "model_below_5.add(Dense(5))\n",
    "model_below_5.add(Activation('softmax'))\n",
    "\n",
    "model_below_5.summary()\n",
    "model_below_5.compile(loss='categorical_crossentropy', optimizer='adam', metrics=['accuracy'])\n"
   ]
  },
  {
   "cell_type": "code",
   "execution_count": 81,
   "metadata": {},
   "outputs": [
    {
     "name": "stdout",
     "output_type": "stream",
     "text": [
      "Train on 24000 samples, validate on 6000 samples\n",
      "Epoch 1/5\n",
      "24000/24000 [==============================] - 31s 1ms/step - loss: 2.0530 - acc: 0.4247 - val_loss: 1.1014 - val_acc: 0.5392\n",
      "Epoch 2/5\n",
      "24000/24000 [==============================] - 30s 1ms/step - loss: 1.0356 - acc: 0.5793 - val_loss: 0.9996 - val_acc: 0.5975\n",
      "Epoch 3/5\n",
      "24000/24000 [==============================] - 32s 1ms/step - loss: 0.9205 - acc: 0.6342 - val_loss: 0.9025 - val_acc: 0.6472\n",
      "Epoch 4/5\n",
      "24000/24000 [==============================] - 31s 1ms/step - loss: 0.8408 - acc: 0.6676 - val_loss: 0.8835 - val_acc: 0.6550\n",
      "Epoch 5/5\n",
      "24000/24000 [==============================] - 31s 1ms/step - loss: 0.7829 - acc: 0.6953 - val_loss: 0.8699 - val_acc: 0.6653\n",
      "Time Taken:  156.52614402770996\n"
     ]
    }
   ],
   "source": [
    "t0 = time.time()\n",
    "hist_below_5 = model_below_5.fit(X_train_below_5, y_train_below_5,\n",
    "                         epochs=5,\n",
    "                         shuffle=True,\n",
    "                         batch_size=100,\n",
    "                         validation_data=(X_test_below_5, y_test_below_5),\n",
    "                    )\n",
    "\n",
    "print(\"Time Taken: \", time.time() - t0)"
   ]
  },
  {
   "cell_type": "code",
   "execution_count": 82,
   "metadata": {},
   "outputs": [
    {
     "name": "stdout",
     "output_type": "stream",
     "text": [
      "False\n",
      "False\n",
      "False\n",
      "False\n",
      "False\n",
      "False\n",
      "True\n",
      "True\n",
      "True\n",
      "True\n"
     ]
    }
   ],
   "source": [
    "for l in model_below_5.layers[:6]:\n",
    "    l.trainable = False\n",
    "    \n",
    "for l in model_below_5.layers:\n",
    "    print (l.trainable)"
   ]
  },
  {
   "cell_type": "code",
   "execution_count": 83,
   "metadata": {},
   "outputs": [
    {
     "name": "stdout",
     "output_type": "stream",
     "text": [
      "_________________________________________________________________\n",
      "Layer (type)                 Output Shape              Param #   \n",
      "=================================================================\n",
      "conv2d_10 (Conv2D)           (None, 28, 28, 8)         608       \n",
      "_________________________________________________________________\n",
      "conv2d_11 (Conv2D)           (None, 24, 24, 16)        3216      \n",
      "_________________________________________________________________\n",
      "max_pooling2d_4 (MaxPooling2 (None, 12, 12, 16)        0         \n",
      "_________________________________________________________________\n",
      "conv2d_12 (Conv2D)           (None, 10, 10, 32)        4640      \n",
      "_________________________________________________________________\n",
      "flatten_4 (Flatten)          (None, 3200)              0         \n",
      "_________________________________________________________________\n",
      "dropout_4 (Dropout)          (None, 3200)              0         \n",
      "_________________________________________________________________\n",
      "dense_13 (Dense)             (None, 128)               409728    \n",
      "_________________________________________________________________\n",
      "activation_13 (Activation)   (None, 128)               0         \n",
      "_________________________________________________________________\n",
      "dense_14 (Dense)             (None, 5)                 645       \n",
      "_________________________________________________________________\n",
      "activation_14 (Activation)   (None, 5)                 0         \n",
      "=================================================================\n",
      "Total params: 418,837\n",
      "Trainable params: 410,373\n",
      "Non-trainable params: 8,464\n",
      "_________________________________________________________________\n"
     ]
    }
   ],
   "source": [
    "model_other_5 = Sequential(model_below_5.layers[:6])\n",
    "\n",
    "model_other_5.add(Dense(128))\n",
    "model_other_5.add(Activation('relu'))\n",
    "model_other_5.add(Dense(5))\n",
    "model_other_5.add(Activation('softmax'))\n",
    "\n",
    "model_other_5.summary()\n",
    "model_other_5.compile(loss='categorical_crossentropy', optimizer='adam', metrics=['accuracy'])\n"
   ]
  },
  {
   "cell_type": "code",
   "execution_count": 84,
   "metadata": {},
   "outputs": [
    {
     "name": "stdout",
     "output_type": "stream",
     "text": [
      "Train on 24000 samples, validate on 6000 samples\n",
      "Epoch 1/5\n",
      "24000/24000 [==============================] - 13s 557us/step - loss: 0.9598 - acc: 0.6269 - val_loss: 0.8225 - val_acc: 0.6828\n",
      "Epoch 2/5\n",
      "24000/24000 [==============================] - 15s 631us/step - loss: 0.7366 - acc: 0.7180 - val_loss: 0.7724 - val_acc: 0.7030\n",
      "Epoch 3/5\n",
      "24000/24000 [==============================] - 14s 572us/step - loss: 0.6413 - acc: 0.7561 - val_loss: 0.7607 - val_acc: 0.7078\n",
      "Epoch 4/5\n",
      "24000/24000 [==============================] - 15s 607us/step - loss: 0.5475 - acc: 0.7934 - val_loss: 0.7643 - val_acc: 0.7165\n",
      "Epoch 5/5\n",
      "24000/24000 [==============================] - 15s 619us/step - loss: 0.4763 - acc: 0.8201 - val_loss: 0.7720 - val_acc: 0.7172\n",
      "Time Taken:  72.68003392219543\n"
     ]
    }
   ],
   "source": [
    "t0 = time.time()\n",
    "hist_other_5 = model_other_5.fit(X_train_other_5, y_train_other_5,\n",
    "                         epochs=5,\n",
    "                         shuffle=True,\n",
    "                         batch_size=100,\n",
    "                         validation_data=(X_test_other_5, y_test_other_5),\n",
    "                    )\n",
    "\n",
    "print(\"Time Taken: \", time.time() - t0)"
   ]
  },
  {
   "cell_type": "code",
   "execution_count": null,
   "metadata": {},
   "outputs": [],
   "source": []
  }
 ],
 "metadata": {
  "kernelspec": {
   "display_name": "Python 3",
   "language": "python",
   "name": "python3"
  },
  "language_info": {
   "codemirror_mode": {
    "name": "ipython",
    "version": 3
   },
   "file_extension": ".py",
   "mimetype": "text/x-python",
   "name": "python",
   "nbconvert_exporter": "python",
   "pygments_lexer": "ipython3",
   "version": "3.7.0"
  }
 },
 "nbformat": 4,
 "nbformat_minor": 2
}
