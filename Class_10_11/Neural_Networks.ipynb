{
 "cells": [
  {
   "cell_type": "code",
   "execution_count": 1,
   "metadata": {},
   "outputs": [],
   "source": [
    "import numpy as np\n",
    "import pandas as pd\n",
    "import matplotlib.pyplot as plt"
   ]
  },
  {
   "cell_type": "code",
   "execution_count": 10,
   "metadata": {},
   "outputs": [],
   "source": [
    "ds = pd.read_csv('C:/Users/vikas/Desktop/mljan19dwk/Datasets/mnist/train.csv')\n",
    "ds = ds.values"
   ]
  },
  {
   "cell_type": "code",
   "execution_count": 32,
   "metadata": {},
   "outputs": [
    {
     "name": "stdout",
     "output_type": "stream",
     "text": [
      "(42000, 785)\n"
     ]
    }
   ],
   "source": [
    "print(ds.shape)\n",
    "X = ds[:,1:]\n",
    "Y = ds[:,0]\n",
    "\n",
    "#Min Max Scaler\n",
    "X = (X - X.min())/(X.max()-X.min())"
   ]
  },
  {
   "cell_type": "code",
   "execution_count": 33,
   "metadata": {},
   "outputs": [],
   "source": [
    "from sklearn.model_selection import train_test_split\n"
   ]
  },
  {
   "cell_type": "code",
   "execution_count": 34,
   "metadata": {},
   "outputs": [],
   "source": [
    "X_train , X_test , Y_train , Y_test = train_test_split(X , Y , test_size=0.2)"
   ]
  },
  {
   "cell_type": "code",
   "execution_count": 35,
   "metadata": {},
   "outputs": [
    {
     "name": "stdout",
     "output_type": "stream",
     "text": [
      "(33600, 784) (8400, 784) (33600,) (8400,)\n"
     ]
    }
   ],
   "source": [
    "print(X_train.shape , X_test.shape , Y_train.shape , Y_test.shape)"
   ]
  },
  {
   "cell_type": "code",
   "execution_count": 36,
   "metadata": {},
   "outputs": [],
   "source": [
    "class NeuralNetworks:\n",
    "    def __init__(self , x , y):\n",
    "        self.x = x\n",
    "        self.y = y\n",
    "        self.N = self.x.shape[0]\n",
    "        self.INPUT_DIM = x.shape[1]\n",
    "        self.OUTPUT_DIM = len(np.unique(y))\n",
    "        self.H1_SIZE = 256\n",
    "        self.H2_SIZE = 64\n",
    "        self.losses = [] \n",
    "        \n",
    "        # Initialize Weights and biases\n",
    "        self.W1 = np.random.randn(self.INPUT_DIM , self.H1_SIZE)  # (784,256)\n",
    "        self.b1 = np.zeros((1,self.H1_SIZE)) # (1,256)\n",
    "        \n",
    "        self.W2 = np.random.randn(self.H1_SIZE , self.H2_SIZE) # (256,64)\n",
    "        self.b2 = np.zeros((1,self.H2_SIZE)) # (1,64)\n",
    "        \n",
    "        self.W3 = np.random.randn(self.H2_SIZE , self.OUTPUT_DIM) # (64,10)\n",
    "        self.b3 = np.zeros((1,self.OUTPUT_DIM)) # (1,10)\n",
    "        \n",
    "    def forward(self , x):\n",
    "        Z1 = x.dot(self.W1) + self.b1  # (N,256) = (N,784)(784,256) + (1,256)\n",
    "        A1 = self.sigmoid(Z1) # (N,256)\n",
    "        \n",
    "        Z2 = A1.dot(self.W2) + self.b2 # (N,64) = (N,256)(256,64) + (1,64)\n",
    "        A2 = self.sigmoid(Z2) # (N,64)\n",
    "        \n",
    "        Z3 = A2.dot(self.W3) + self.b3 # (N,10) = (N,64)(64,10) + (1,10)\n",
    "        yhat = self.softmax(Z3) # (N,10)\n",
    "        \n",
    "        self.activation = [A1,A2,yhat]\n",
    "        \n",
    "        return yhat\n",
    "    \n",
    "    def backward(self , x, y ,yhat ,learning_rate=0.01): # we will pass y as One_hot_vector of Dim (N,10)\n",
    "        \n",
    "        A1 , A2 , yhat = self.activation\n",
    "        # Compute Gradients\n",
    "        delta3 = (yhat-y) # (N,10) \n",
    "        dldw3 = A2.T.dot(delta3) # (64,10)\n",
    "        dldb3 = delta3.sum(axis=0 , keepdims=True)\n",
    "        \n",
    "        delta2 = delta3.dot(self.W3.T) * (A2*(1-A2)) # (N,64) \n",
    "        dldw2 = A1.T.dot(delta2) # (256,64)\n",
    "        dldb2 = delta2.sum(axis=0 , keepdims=True)\n",
    "        \n",
    "        delta1 = delta2.dot(self.W2.T)* (A1 * (1-A1)) # (N,256) \n",
    "        dldw1 =  x.T.dot(delta1) # (784,256)\n",
    "        dldb1 = delta1.sum(axis=0 , keepdims=True)\n",
    "        \n",
    "        # update gradients and biases\n",
    "        self.W1 -= learning_rate*dldw1\n",
    "        self.b1 -= learning_rate*dldb1\n",
    "        \n",
    "        self.W2 -= learning_rate*dldw2\n",
    "        self.b2 -= learning_rate*dldb2\n",
    "        \n",
    "        self.W3 -= learning_rate*dldw3\n",
    "        self.b3 -= learning_rate*dldb3\n",
    "    \n",
    "    def predict(self , test):\n",
    "        yhat = self.forward(test)\n",
    "        preds = yhat.argmax(axis = 1)\n",
    "        return preds\n",
    "    \n",
    "    def accuracy(self , labels , predictions ):\n",
    "        return (labels==predictions).sum()/labels.shape[0] #.mean()\n",
    "    \n",
    "    def compute_loss(self , y , yhat ): # y is one_hot_vector\n",
    "        return -np.sum(y*np.log(yhat))\n",
    "    \n",
    "    def  sigmoid(self , z):\n",
    "        return 1/(1+np.exp(-z))\n",
    "    \n",
    "    def sigmoid_derivative(self , z):\n",
    "        y = self.sigmoid(z)\n",
    "        return y * (1-y)\n",
    "    \n",
    "    def softmax(self , z):\n",
    "        return np.exp(z)/(np.exp(z)).sum(axis = 1 , keepdims = True)\n",
    "    \n",
    "    def get_one_hot_vector(self , y):\n",
    "        n_classes = len(np.unique(y))\n",
    "        one_hot_vector = np.zeros((y.shape[0] , n_classes))\n",
    "        for i , label in enumerate(y):\n",
    "            one_hot_vector[i,label]=1\n",
    "        \n",
    "        return one_hot_vector\n",
    "    \n",
    "    def train(self , learning_rate = 0.01 , epochs=10 , batch_size=128):\n",
    "        y_one_hot_vector = self.get_one_hot_vector(self.y)\n",
    "        for e in range(epochs):\n",
    "            size =0\n",
    "            while size+batch_size<self.N:\n",
    "                x_batch = self.x[size : size+batch_size]\n",
    "                y_batch = self.y[size : size+batch_size]\n",
    "                size+=batch_size\n",
    "                \n",
    "                y_batch_hot = self.get_one_hot_vector(y_batch)\n",
    "                yhat_batch = self.forward(x_batch)\n",
    "                self.backward(x_batch , y_batch_hot , yhat_batch ,learning_rate)\n",
    "            yhat = self.forward(self.x)\n",
    "            self.losses.append(self.compute_loss(y_one_hot_vector,yhat))\n",
    "            print(\"loss at [{}] epoch {}\".format(e,self.losses[-1]))\n",
    "    "
   ]
  },
  {
   "cell_type": "code",
   "execution_count": 37,
   "metadata": {},
   "outputs": [],
   "source": [
    "nn = NeuralNetworks(X_train , Y_train)"
   ]
  },
  {
   "cell_type": "code",
   "execution_count": 38,
   "metadata": {},
   "outputs": [
    {
     "data": {
      "text/plain": [
       "(784, 256, 64, 10)"
      ]
     },
     "execution_count": 38,
     "metadata": {},
     "output_type": "execute_result"
    }
   ],
   "source": [
    "nn.INPUT_DIM, nn.H1_SIZE, nn.H2_SIZE, nn.OUTPUT_DIM"
   ]
  },
  {
   "cell_type": "code",
   "execution_count": 39,
   "metadata": {},
   "outputs": [
    {
     "name": "stdout",
     "output_type": "stream",
     "text": [
      "First Loss:  349540.5397953635\n"
     ]
    }
   ],
   "source": [
    "print(\"First Loss: \", nn.compute_loss(nn.get_one_hot_vector(nn.y), nn.forward(nn.x)))"
   ]
  },
  {
   "cell_type": "code",
   "execution_count": 40,
   "metadata": {},
   "outputs": [
    {
     "name": "stdout",
     "output_type": "stream",
     "text": [
      "loss at [0] epoch 17003.687744282135\n",
      "loss at [1] epoch 12052.465062872063\n",
      "loss at [2] epoch 10153.43814980739\n",
      "loss at [3] epoch 8629.978577303384\n",
      "loss at [4] epoch 7420.082685166719\n",
      "loss at [5] epoch 6561.675218439036\n",
      "loss at [6] epoch 5870.067902821412\n",
      "loss at [7] epoch 5277.797843247812\n",
      "loss at [8] epoch 4735.48923792604\n",
      "loss at [9] epoch 4281.237708684849\n",
      "loss at [10] epoch 3904.022286196491\n",
      "loss at [11] epoch 3579.1148687938326\n",
      "loss at [12] epoch 3288.070052159465\n",
      "loss at [13] epoch 3021.864730672834\n",
      "loss at [14] epoch 2780.870327067851\n",
      "loss at [15] epoch 2554.1289818848436\n",
      "loss at [16] epoch 2337.5965601107405\n",
      "loss at [17] epoch 2141.426336865478\n",
      "loss at [18] epoch 1973.1799832038573\n",
      "loss at [19] epoch 1830.0977636207365\n"
     ]
    }
   ],
   "source": [
    "nn.train(learning_rate=0.01, epochs=20, batch_size=128)"
   ]
  },
  {
   "cell_type": "code",
   "execution_count": 42,
   "metadata": {},
   "outputs": [
    {
     "data": {
      "image/png": "[encoded data removed]",
      "text/plain": [
       "<Figure size 432x288 with 1 Axes>"
      ]
     },
     "metadata": {
      "needs_background": "light"
     },
     "output_type": "display_data"
    }
   ],
   "source": [
    "plt.figure()\n",
    "plt.plot(nn.losses)\n",
    "plt.show()"
   ]
  },
  {
   "cell_type": "code",
   "execution_count": 43,
   "metadata": {},
   "outputs": [
    {
     "name": "stdout",
     "output_type": "stream",
     "text": [
      "Testing Acc:  0.9310714285714285\n",
      "Training Acc: 0.9858928571428571\n"
     ]
    }
   ],
   "source": [
    "preds = nn.predict(X_test)\n",
    "print(\"Testing Acc: \", nn.accuracy(preds, Y_test))\n",
    "\n",
    "train_preds = nn.predict(X_train)\n",
    "print(\"Training Acc:\", nn.accuracy(train_preds, Y_train))"
   ]
  },
  {
   "cell_type": "code",
   "execution_count": null,
   "metadata": {},
   "outputs": [],
   "source": []
  }
 ],
 "metadata": {
  "kernelspec": {
   "display_name": "Python 3",
   "language": "python",
   "name": "python3"
  },
  "language_info": {
   "codemirror_mode": {
    "name": "ipython",
    "version": 3
   },
   "file_extension": ".py",
   "mimetype": "text/x-python",
   "name": "python",
   "nbconvert_exporter": "python",
   "pygments_lexer": "ipython3",
   "version": "3.7.2"
  }
 },
 "nbformat": 4,
 "nbformat_minor": 2
}
