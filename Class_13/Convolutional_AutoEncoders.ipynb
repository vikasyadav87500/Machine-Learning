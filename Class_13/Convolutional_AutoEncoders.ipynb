{
 "cells": [
  {
   "cell_type": "code",
   "execution_count": 1,
   "metadata": {},
   "outputs": [
    {
     "name": "stderr",
     "output_type": "stream",
     "text": [
      "Using TensorFlow backend.\n"
     ]
    }
   ],
   "source": [
    "import numpy as np\n",
    "import matplotlib.pyplot as plt\n",
    "import pandas as pd\n",
    "from sklearn.model_selection import train_test_split\n",
    "\n",
    "import keras\n",
    "from keras.models import Model\n",
    "from keras.layers import Conv2D, MaxPool2D, ZeroPadding2D, \\\n",
    "                         UpSampling2D, Input, Dense, Activation, Flatten, Reshape\n",
    "from keras.utils import to_categorical"
   ]
  },
  {
   "cell_type": "code",
   "execution_count": 2,
   "metadata": {},
   "outputs": [],
   "source": [
    "ds = pd.read_csv('C:/Users/vikas/Desktop/mljan19dwk/Datasets/mnist/train.csv').values"
   ]
  },
  {
   "cell_type": "code",
   "execution_count": 3,
   "metadata": {},
   "outputs": [
    {
     "name": "stdout",
     "output_type": "stream",
     "text": [
      "(31500, 784) (10500, 784) (31500,) (10500,)\n"
     ]
    }
   ],
   "source": [
    "X_train , X_test , Y_train , Y_test = train_test_split(ds[: , 1:] , ds[: , 0] , test_size=0.25)\n",
    "print(X_train.shape , X_test.shape , Y_train.shape , Y_test.shape)"
   ]
  },
  {
   "cell_type": "code",
   "execution_count": 4,
   "metadata": {},
   "outputs": [
    {
     "name": "stdout",
     "output_type": "stream",
     "text": [
      "(31500, 28, 28, 1) (10500, 28, 28, 1) (31500, 10) (10500, 10)\n"
     ]
    }
   ],
   "source": [
    "X_train  , X_test = X_train.reshape((-1,28,28,1)) , X_test.reshape((-1,28,28,1))\n",
    "Y_train = to_categorical(Y_train)\n",
    "Y_test = to_categorical(Y_test)\n",
    "print(X_train.shape , X_test.shape , Y_train.shape , Y_test.shape)"
   ]
  },
  {
   "cell_type": "markdown",
   "metadata": {},
   "source": [
    "## Convolutional Auto_Encoder"
   ]
  },
  {
   "cell_type": "code",
   "execution_count": 22,
   "metadata": {},
   "outputs": [
    {
     "name": "stdout",
     "output_type": "stream",
     "text": [
      "_________________________________________________________________\n",
      "Layer (type)                 Output Shape              Param #   \n",
      "=================================================================\n",
      "input_3 (InputLayer)         (None, 28, 28, 1)         0         \n",
      "_________________________________________________________________\n",
      "conv2d_13 (Conv2D)           (None, 26, 26, 32)        320       \n",
      "_________________________________________________________________\n",
      "conv2d_14 (Conv2D)           (None, 24, 24, 16)        4624      \n",
      "_________________________________________________________________\n",
      "max_pooling2d_3 (MaxPooling2 (None, 12, 12, 16)        0         \n",
      "_________________________________________________________________\n",
      "conv2d_15 (Conv2D)           (None, 10, 10, 8)         1160      \n",
      "_________________________________________________________________\n",
      "flatten_3 (Flatten)          (None, 800)               0         \n",
      "_________________________________________________________________\n",
      "dense_5 (Dense)              (None, 256)               205056    \n",
      "_________________________________________________________________\n",
      "dense_6 (Dense)              (None, 800)               205600    \n",
      "_________________________________________________________________\n",
      "reshape_3 (Reshape)          (None, 10, 10, 8)         0         \n",
      "_________________________________________________________________\n",
      "zero_padding2d_7 (ZeroPaddin (None, 12, 12, 8)         0         \n",
      "_________________________________________________________________\n",
      "conv2d_16 (Conv2D)           (None, 12, 12, 16)        1168      \n",
      "_________________________________________________________________\n",
      "up_sampling2d_3 (UpSampling2 (None, 24, 24, 16)        0         \n",
      "_________________________________________________________________\n",
      "zero_padding2d_8 (ZeroPaddin (None, 26, 26, 16)        0         \n",
      "_________________________________________________________________\n",
      "conv2d_17 (Conv2D)           (None, 26, 26, 32)        4640      \n",
      "_________________________________________________________________\n",
      "zero_padding2d_9 (ZeroPaddin (None, 28, 28, 32)        0         \n",
      "_________________________________________________________________\n",
      "conv2d_18 (Conv2D)           (None, 28, 28, 1)         289       \n",
      "=================================================================\n",
      "Total params: 422,857\n",
      "Trainable params: 422,857\n",
      "Non-trainable params: 0\n",
      "_________________________________________________________________\n"
     ]
    }
   ],
   "source": [
    "e = 256\n",
    "\n",
    "inp = Input((28,28,1))\n",
    "conv1 = Conv2D(32, (3,3) , activation='relu')(inp)\n",
    "conv2 = Conv2D(16 , (3,3) ,activation='relu')(conv1)\n",
    "mp = MaxPool2D(2,2)(conv2)\n",
    "conv3 = Conv2D(8, (3,3) ,activation='relu')(mp)\n",
    "f1 = Flatten()(conv3)\n",
    "d1 = Dense(256 , activation='relu')(f1)\n",
    "emb = Dense(800 , activation='relu')(d1)\n",
    "r1 = Reshape((10,10,8))(emb)\n",
    "zp1 = ZeroPadding2D((1,1))(r1)\n",
    "d_conv1 = Conv2D(16 , (3,3) , padding='same' , activation='relu')(zp1)\n",
    "up1 = UpSampling2D((2,2))(d_conv1)\n",
    "zp2 = ZeroPadding2D((1,1))(up1)\n",
    "d_conv2 = Conv2D(32,(3,3) , padding='same' , activation='relu')(zp2)\n",
    "zp3 = ZeroPadding2D((1,1))(d_conv2)\n",
    "out = Conv2D(1 , (3,3) ,padding='same' , activation='relu')(zp3)\n",
    "\n",
    "Convolutional_AE = Model(inputs = inp , outputs = out)\n",
    "Convolutional_AE.summary()"
   ]
  },
  {
   "cell_type": "code",
   "execution_count": 23,
   "metadata": {},
   "outputs": [],
   "source": [
    "Convolutional_AE.compile(loss='mse' , optimizer='adam' , metrics=['accuracy'])"
   ]
  },
  {
   "cell_type": "code",
   "execution_count": 24,
   "metadata": {},
   "outputs": [
    {
     "name": "stdout",
     "output_type": "stream",
     "text": [
      "Train on 31500 samples, validate on 10500 samples\n",
      "Epoch 1/30\n",
      "31500/31500 [==============================] - 7s 230us/step - loss: 3373.5802 - acc: 0.3417 - val_loss: 1557.1165 - val_acc: 0.6850\n",
      "Epoch 2/30\n",
      "31500/31500 [==============================] - 5s 156us/step - loss: 1083.0543 - acc: 0.7335 - val_loss: 802.0100 - val_acc: 0.7616\n",
      "Epoch 3/30\n",
      "31500/31500 [==============================] - 5s 156us/step - loss: 703.1912 - acc: 0.7671 - val_loss: 608.7905 - val_acc: 0.7737\n",
      "Epoch 4/30\n",
      "31500/31500 [==============================] - 5s 157us/step - loss: 570.8864 - acc: 0.7784 - val_loss: 511.9172 - val_acc: 0.7838\n",
      "Epoch 5/30\n",
      "31500/31500 [==============================] - 5s 157us/step - loss: 484.3023 - acc: 0.7851 - val_loss: 453.4923 - val_acc: 0.7879\n",
      "Epoch 6/30\n",
      "31500/31500 [==============================] - 5s 158us/step - loss: 434.7825 - acc: 0.7888 - val_loss: 421.7381 - val_acc: 0.7899\n",
      "Epoch 7/30\n",
      "31500/31500 [==============================] - 5s 158us/step - loss: 399.7823 - acc: 0.7912 - val_loss: 384.2284 - val_acc: 0.7931\n",
      "Epoch 8/30\n",
      "31500/31500 [==============================] - 5s 155us/step - loss: 366.5397 - acc: 0.7935 - val_loss: 348.2916 - val_acc: 0.7947\n",
      "Epoch 9/30\n",
      "31500/31500 [==============================] - 5s 157us/step - loss: 344.7918 - acc: 0.7952 - val_loss: 334.2387 - val_acc: 0.7974\n",
      "Epoch 10/30\n",
      "31500/31500 [==============================] - 5s 156us/step - loss: 326.8677 - acc: 0.7964 - val_loss: 326.9571 - val_acc: 0.7943\n",
      "Epoch 11/30\n",
      "31500/31500 [==============================] - 5s 156us/step - loss: 311.7573 - acc: 0.7974 - val_loss: 306.0583 - val_acc: 0.8001\n",
      "Epoch 12/30\n",
      "31500/31500 [==============================] - 5s 156us/step - loss: 296.6059 - acc: 0.7985 - val_loss: 309.3499 - val_acc: 0.8014\n",
      "Epoch 13/30\n",
      "31500/31500 [==============================] - 5s 155us/step - loss: 283.9377 - acc: 0.7993 - val_loss: 285.3269 - val_acc: 0.8001\n",
      "Epoch 14/30\n",
      "31500/31500 [==============================] - 5s 156us/step - loss: 274.2927 - acc: 0.7999 - val_loss: 268.7739 - val_acc: 0.8011\n",
      "Epoch 15/30\n",
      "31500/31500 [==============================] - 5s 156us/step - loss: 263.5079 - acc: 0.8006 - val_loss: 276.6632 - val_acc: 0.7984\n",
      "Epoch 16/30\n",
      "31500/31500 [==============================] - 5s 156us/step - loss: 259.2275 - acc: 0.8010 - val_loss: 268.6077 - val_acc: 0.8037\n",
      "Epoch 17/30\n",
      "31500/31500 [==============================] - 5s 155us/step - loss: 248.5948 - acc: 0.8016 - val_loss: 239.8003 - val_acc: 0.8027\n",
      "Epoch 18/30\n",
      "31500/31500 [==============================] - 5s 155us/step - loss: 242.1771 - acc: 0.8019 - val_loss: 248.9715 - val_acc: 0.8002\n",
      "Epoch 19/30\n",
      "31500/31500 [==============================] - 5s 155us/step - loss: 234.6881 - acc: 0.8023 - val_loss: 242.5533 - val_acc: 0.8008\n",
      "Epoch 20/30\n",
      "31500/31500 [==============================] - 5s 156us/step - loss: 229.1632 - acc: 0.8026 - val_loss: 226.2602 - val_acc: 0.8030\n",
      "Epoch 21/30\n",
      "31500/31500 [==============================] - 5s 157us/step - loss: 225.7112 - acc: 0.8029 - val_loss: 224.7221 - val_acc: 0.8022\n",
      "Epoch 22/30\n",
      "31500/31500 [==============================] - 5s 157us/step - loss: 222.0005 - acc: 0.8029 - val_loss: 212.5968 - val_acc: 0.8038\n",
      "Epoch 23/30\n",
      "31500/31500 [==============================] - 5s 157us/step - loss: 212.4082 - acc: 0.8034 - val_loss: 215.7668 - val_acc: 0.8052\n",
      "Epoch 24/30\n",
      "31500/31500 [==============================] - 5s 157us/step - loss: 208.6647 - acc: 0.8036 - val_loss: 226.5744 - val_acc: 0.8017\n",
      "Epoch 25/30\n",
      "31500/31500 [==============================] - 5s 157us/step - loss: 204.9302 - acc: 0.8036 - val_loss: 205.9510 - val_acc: 0.8052\n",
      "Epoch 26/30\n",
      "31500/31500 [==============================] - 5s 161us/step - loss: 201.2028 - acc: 0.8038 - val_loss: 203.9541 - val_acc: 0.8053\n",
      "Epoch 27/30\n",
      "31500/31500 [==============================] - 5s 156us/step - loss: 197.9716 - acc: 0.8039 - val_loss: 199.4742 - val_acc: 0.8056\n",
      "Epoch 28/30\n",
      "31500/31500 [==============================] - 5s 160us/step - loss: 194.1679 - acc: 0.8041 - val_loss: 195.7259 - val_acc: 0.8055\n",
      "Epoch 29/30\n",
      "31500/31500 [==============================] - 5s 161us/step - loss: 191.0573 - acc: 0.8042 - val_loss: 193.9619 - val_acc: 0.8058\n",
      "Epoch 30/30\n",
      "31500/31500 [==============================] - 5s 155us/step - loss: 188.4331 - acc: 0.8044 - val_loss: 186.4915 - val_acc: 0.8053\n"
     ]
    }
   ],
   "source": [
    "hist = Convolutional_AE.fit(X_train , X_train,\n",
    "                    shuffle=True,\n",
    "                    epochs=30,\n",
    "                    batch_size=512,\n",
    "                    validation_data=(X_test,X_test))"
   ]
  },
  {
   "cell_type": "code",
   "execution_count": 25,
   "metadata": {},
   "outputs": [
    {
     "data": {
      "image/png": "[encoded data removed]",
      "text/plain": [
       "<Figure size 432x288 with 1 Axes>"
      ]
     },
     "metadata": {
      "needs_background": "light"
     },
     "output_type": "display_data"
    },
    {
     "data": {
      "image/png": "[encoded data removed]",
      "text/plain": [
       "<Figure size 432x288 with 1 Axes>"
      ]
     },
     "metadata": {
      "needs_background": "light"
     },
     "output_type": "display_data"
    }
   ],
   "source": [
    "plt.figure(0)\n",
    "plt.title(\"Loss\")\n",
    "plt.plot(hist.history['loss'], 'r', label='Training')\n",
    "plt.plot(hist.history['val_loss'], 'b', label='Testing')\n",
    "plt.legend()\n",
    "plt.show()\n",
    "\n",
    "plt.figure(1)\n",
    "plt.title(\"Accuracy\")\n",
    "plt.plot(hist.history['acc'], 'r', label='Training')\n",
    "plt.plot(hist.history['val_acc'], 'b', label='Testing')\n",
    "plt.legend()\n",
    "plt.show()"
   ]
  },
  {
   "cell_type": "code",
   "execution_count": 26,
   "metadata": {},
   "outputs": [
    {
     "data": {
      "text/plain": [
       "((20, 28, 28, 1), (20, 28, 28, 1))"
      ]
     },
     "execution_count": 26,
     "metadata": {},
     "output_type": "execute_result"
    }
   ],
   "source": [
    "test = X_test[:20]\n",
    "preds = Convolutional_AE.predict(test)\n",
    "test.shape, preds.shape"
   ]
  },
  {
   "cell_type": "code",
   "execution_count": 27,
   "metadata": {},
   "outputs": [
    {
     "data": {
      "image/png": "[encoded data removed]",
      "text/plain": [
       "<Figure size 432x288 with 2 Axes>"
      ]
     },
     "metadata": {
      "needs_background": "light"
     },
     "output_type": "display_data"
    },
    {
     "data": {
      "image/png": "[encoded data removed]",
      "text/plain": [
       "<Figure size 432x288 with 2 Axes>"
      ]
     },
     "metadata": {
      "needs_background": "light"
     },
     "output_type": "display_data"
    },
    {
     "data": {
      "image/png": "[encoded data removed]",
      "text/plain": [
       "<Figure size 432x288 with 2 Axes>"
      ]
     },
     "metadata": {
      "needs_background": "light"
     },
     "output_type": "display_data"
    },
    {
     "data": {
      "image/png": "[encoded data removed]",
      "text/plain": [
       "<Figure size 432x288 with 2 Axes>"
      ]
     },
     "metadata": {
      "needs_background": "light"
     },
     "output_type": "display_data"
    },
    {
     "data": {
      "image/png": "[encoded data removed]",
      "text/plain": [
       "<Figure size 432x288 with 2 Axes>"
      ]
     },
     "metadata": {
      "needs_background": "light"
     },
     "output_type": "display_data"
    },
    {
     "data": {
      "image/png": "[encoded data removed]",
      "text/plain": [
       "<Figure size 432x288 with 2 Axes>"
      ]
     },
     "metadata": {
      "needs_background": "light"
     },
     "output_type": "display_data"
    },
    {
     "data": {
      "image/png": "[encoded data removed]",
      "text/plain": [
       "<Figure size 432x288 with 2 Axes>"
      ]
     },
     "metadata": {
      "needs_background": "light"
     },
     "output_type": "display_data"
    },
    {
     "data": {
      "image/png": "[encoded data removed]",
      "text/plain": [
       "<Figure size 432x288 with 2 Axes>"
      ]
     },
     "metadata": {
      "needs_background": "light"
     },
     "output_type": "display_data"
    },
    {
     "data": {
      "image/png": "[encoded data removed]",
      "text/plain": [
       "<Figure size 432x288 with 2 Axes>"
      ]
     },
     "metadata": {
      "needs_background": "light"
     },
     "output_type": "display_data"
    },
    {
     "data": {
      "image/png": "[encoded data removed]",
      "text/plain": [
       "<Figure size 432x288 with 2 Axes>"
      ]
     },
     "metadata": {
      "needs_background": "light"
     },
     "output_type": "display_data"
    },
    {
     "data": {
      "image/png": "[encoded data removed]",
      "text/plain": [
       "<Figure size 432x288 with 2 Axes>"
      ]
     },
     "metadata": {
      "needs_background": "light"
     },
     "output_type": "display_data"
    },
    {
     "data": {
      "image/png": "[encoded data removed]",
      "text/plain": [
       "<Figure size 432x288 with 2 Axes>"
      ]
     },
     "metadata": {
      "needs_background": "light"
     },
     "output_type": "display_data"
    },
    {
     "data": {
      "image/png": "[encoded data removed]",
      "text/plain": [
       "<Figure size 432x288 with 2 Axes>"
      ]
     },
     "metadata": {
      "needs_background": "light"
     },
     "output_type": "display_data"
    },
    {
     "data": {
      "image/png": "[encoded data removed]",
      "text/plain": [
       "<Figure size 432x288 with 2 Axes>"
      ]
     },
     "metadata": {
      "needs_background": "light"
     },
     "output_type": "display_data"
    },
    {
     "data": {
      "image/png": "[encoded data removed]",
      "text/plain": [
       "<Figure size 432x288 with 2 Axes>"
      ]
     },
     "metadata": {
      "needs_background": "light"
     },
     "output_type": "display_data"
    },
    {
     "data": {
      "image/png": "[encoded data removed]",
      "text/plain": [
       "<Figure size 432x288 with 2 Axes>"
      ]
     },
     "metadata": {
      "needs_background": "light"
     },
     "output_type": "display_data"
    },
    {
     "data": {
      "image/png": "[encoded data removed]",
      "text/plain": [
       "<Figure size 432x288 with 2 Axes>"
      ]
     },
     "metadata": {
      "needs_background": "light"
     },
     "output_type": "display_data"
    },
    {
     "data": {
      "image/png": "[encoded data removed]",
      "text/plain": [
       "<Figure size 432x288 with 2 Axes>"
      ]
     },
     "metadata": {
      "needs_background": "light"
     },
     "output_type": "display_data"
    },
    {
     "data": {
      "image/png": "[encoded data removed]",
      "text/plain": [
       "<Figure size 432x288 with 2 Axes>"
      ]
     },
     "metadata": {
      "needs_background": "light"
     },
     "output_type": "display_data"
    },
    {
     "data": {
      "image/png": "[encoded data removed]",
      "text/plain": [
       "<Figure size 432x288 with 2 Axes>"
      ]
     },
     "metadata": {
      "needs_background": "light"
     },
     "output_type": "display_data"
    }
   ],
   "source": [
    "for i in range(test.shape[0]):\n",
    "    plt.figure()\n",
    "    plt.subplot(1,2,1)\n",
    "    plt.title('Original')\n",
    "    plt.axis('off')\n",
    "    plt.imshow(test[i].reshape((28,28)), cmap='gray')\n",
    "    \n",
    "    plt.subplot(1,2,2)\n",
    "    plt.title('Regenerated')\n",
    "    plt.axis('off')\n",
    "    plt.imshow(preds[i].reshape((28,28)), cmap='gray')"
   ]
  },
  {
   "cell_type": "code",
   "execution_count": 13,
   "metadata": {},
   "outputs": [
    {
     "data": {
      "text/plain": [
       "[<keras.engine.input_layer.InputLayer at 0x16eb9ba6160>,\n",
       " <keras.layers.convolutional.Conv2D at 0x16eb9a63f98>,\n",
       " <keras.layers.convolutional.Conv2D at 0x16eb9a63cc0>,\n",
       " <keras.layers.pooling.MaxPooling2D at 0x16eb9ba6128>,\n",
       " <keras.layers.convolutional.Conv2D at 0x16eb9a8c828>,\n",
       " <keras.layers.core.Flatten at 0x16eb9a99828>,\n",
       " <keras.layers.core.Dense at 0x16eb9abfa58>,\n",
       " <keras.layers.core.Dense at 0x16eb9abf8d0>,\n",
       " <keras.layers.core.Reshape at 0x16eb9cf9ef0>,\n",
       " <keras.layers.convolutional.ZeroPadding2D at 0x16eb9cf3978>,\n",
       " <keras.layers.convolutional.Conv2D at 0x16eb9cf3e80>,\n",
       " <keras.layers.convolutional.UpSampling2D at 0x16eb9cf3a58>,\n",
       " <keras.layers.convolutional.ZeroPadding2D at 0x16eb9d013c8>,\n",
       " <keras.layers.convolutional.Conv2D at 0x16eb9ceb7b8>,\n",
       " <keras.layers.convolutional.ZeroPadding2D at 0x16eb9d012b0>,\n",
       " <keras.layers.convolutional.Conv2D at 0x16eba1fd6a0>]"
      ]
     },
     "execution_count": 13,
     "metadata": {},
     "output_type": "execute_result"
    }
   ],
   "source": [
    "Convolutional_AE.layers"
   ]
  },
  {
   "cell_type": "code",
   "execution_count": 29,
   "metadata": {},
   "outputs": [
    {
     "data": {
      "text/plain": [
       "((20, 28, 28, 1), (20, 28, 28, 1))"
      ]
     },
     "execution_count": 29,
     "metadata": {},
     "output_type": "execute_result"
    }
   ],
   "source": [
    "test = X_test[:20]\n",
    "preds = Convolutional_AE.predict(test)\n",
    "test.shape, preds.shape"
   ]
  },
  {
   "cell_type": "markdown",
   "metadata": {},
   "source": [
    "## Encoder"
   ]
  },
  {
   "cell_type": "code",
   "execution_count": 15,
   "metadata": {},
   "outputs": [
    {
     "name": "stdout",
     "output_type": "stream",
     "text": [
      "_________________________________________________________________\n",
      "Layer (type)                 Output Shape              Param #   \n",
      "=================================================================\n",
      "input_1 (InputLayer)         (None, 28, 28, 1)         0         \n",
      "_________________________________________________________________\n",
      "conv2d_1 (Conv2D)            (None, 26, 26, 32)        320       \n",
      "_________________________________________________________________\n",
      "conv2d_2 (Conv2D)            (None, 24, 24, 16)        4624      \n",
      "_________________________________________________________________\n",
      "max_pooling2d_1 (MaxPooling2 (None, 12, 12, 16)        0         \n",
      "_________________________________________________________________\n",
      "conv2d_3 (Conv2D)            (None, 10, 10, 8)         1160      \n",
      "_________________________________________________________________\n",
      "flatten_1 (Flatten)          (None, 800)               0         \n",
      "_________________________________________________________________\n",
      "dense_1 (Dense)              (None, 256)               205056    \n",
      "=================================================================\n",
      "Total params: 211,160\n",
      "Trainable params: 211,160\n",
      "Non-trainable params: 0\n",
      "_________________________________________________________________\n"
     ]
    }
   ],
   "source": [
    "encoder = Model(inputs=inp, outputs=d1)\n",
    "encoder.summary()"
   ]
  },
  {
   "cell_type": "code",
   "execution_count": 30,
   "metadata": {},
   "outputs": [
    {
     "data": {
      "text/plain": [
       "(20, 256)"
      ]
     },
     "execution_count": 30,
     "metadata": {},
     "output_type": "execute_result"
    }
   ],
   "source": [
    "ec = encoder.predict(test)\n",
    "ec.shape"
   ]
  },
  {
   "cell_type": "markdown",
   "metadata": {},
   "source": [
    "## Decoder"
   ]
  },
  {
   "cell_type": "code",
   "execution_count": 28,
   "metadata": {},
   "outputs": [
    {
     "name": "stdout",
     "output_type": "stream",
     "text": [
      "_________________________________________________________________\n",
      "Layer (type)                 Output Shape              Param #   \n",
      "=================================================================\n",
      "input_4 (InputLayer)         (None, 256)               0         \n",
      "_________________________________________________________________\n",
      "dense_6 (Dense)              (None, 800)               205600    \n",
      "_________________________________________________________________\n",
      "reshape_3 (Reshape)          (None, 10, 10, 8)         0         \n",
      "_________________________________________________________________\n",
      "zero_padding2d_7 (ZeroPaddin (None, 12, 12, 8)         0         \n",
      "_________________________________________________________________\n",
      "conv2d_16 (Conv2D)           (None, 12, 12, 16)        1168      \n",
      "_________________________________________________________________\n",
      "up_sampling2d_3 (UpSampling2 (None, 24, 24, 16)        0         \n",
      "_________________________________________________________________\n",
      "zero_padding2d_8 (ZeroPaddin (None, 26, 26, 16)        0         \n",
      "_________________________________________________________________\n",
      "conv2d_17 (Conv2D)           (None, 26, 26, 32)        4640      \n",
      "_________________________________________________________________\n",
      "zero_padding2d_9 (ZeroPaddin (None, 28, 28, 32)        0         \n",
      "_________________________________________________________________\n",
      "conv2d_18 (Conv2D)           (None, 28, 28, 1)         289       \n",
      "=================================================================\n",
      "Total params: 211,697\n",
      "Trainable params: 211,697\n",
      "Non-trainable params: 0\n",
      "_________________________________________________________________\n"
     ]
    }
   ],
   "source": [
    "decoder_input = Input(shape=(e,))\n",
    "dec_layer = Convolutional_AE.layers[7](decoder_input)\n",
    "\n",
    "for i in range(8, len(Convolutional_AE.layers)):\n",
    "    dec_layer = Convolutional_AE.layers[i](dec_layer)\n",
    "decoder = Model(inputs=decoder_input, outputs=dec_layer)\n",
    "decoder.summary()"
   ]
  },
  {
   "cell_type": "code",
   "execution_count": 32,
   "metadata": {},
   "outputs": [
    {
     "data": {
      "text/plain": [
       "(20, 28, 28, 1)"
      ]
     },
     "execution_count": 32,
     "metadata": {},
     "output_type": "execute_result"
    }
   ],
   "source": [
    "dc = decoder.predict(ec)\n",
    "dc.shape"
   ]
  },
  {
   "cell_type": "code",
   "execution_count": null,
   "metadata": {},
   "outputs": [],
   "source": []
  }
 ],
 "metadata": {
  "kernelspec": {
   "display_name": "Python 3",
   "language": "python",
   "name": "python3"
  },
  "language_info": {
   "codemirror_mode": {
    "name": "ipython",
    "version": 3
   },
   "file_extension": ".py",
   "mimetype": "text/x-python",
   "name": "python",
   "nbconvert_exporter": "python",
   "pygments_lexer": "ipython3",
   "version": "3.7.2"
  }
 },
 "nbformat": 4,
 "nbformat_minor": 2
}
