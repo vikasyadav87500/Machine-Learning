{
 "cells": [
  {
   "cell_type": "code",
   "execution_count": 1,
   "metadata": {},
   "outputs": [],
   "source": [
    "import gensim\n",
    "from gensim.models import word2vec\n",
    "from gensim.models import KeyedVectors\n",
    "from sklearn.metrics.pairwise import cosine_similarity\n",
    "import numpy as np"
   ]
  },
  {
   "cell_type": "code",
   "execution_count": 3,
   "metadata": {},
   "outputs": [],
   "source": [
    "w2v = KeyedVectors.load_word2vec_format('../Datasets/GoogleNews-vectors-negative300.bin.gz', binary=True)"
   ]
  },
  {
   "cell_type": "code",
   "execution_count": 5,
   "metadata": {},
   "outputs": [],
   "source": [
    "# w2v['rupee']"
   ]
  },
  {
   "cell_type": "code",
   "execution_count": 4,
   "metadata": {},
   "outputs": [],
   "source": [
    "v1 = w2v[\"survey\"] \n",
    "v2 = w2v[\"generation\"]"
   ]
  },
  {
   "cell_type": "code",
   "execution_count": 5,
   "metadata": {},
   "outputs": [
    {
     "name": "stdout",
     "output_type": "stream",
     "text": [
      "(300,)\n",
      "(300,)\n"
     ]
    }
   ],
   "source": [
    "print(v1.shape)\n",
    "print(v2.shape)"
   ]
  },
  {
   "cell_type": "code",
   "execution_count": 6,
   "metadata": {},
   "outputs": [
    {
     "data": {
      "text/plain": [
       "array([[0.10165814]], dtype=float32)"
      ]
     },
     "execution_count": 6,
     "metadata": {},
     "output_type": "execute_result"
    }
   ],
   "source": [
    "cosine_similarity([v1],[v2])"
   ]
  },
  {
   "cell_type": "code",
   "execution_count": 13,
   "metadata": {},
   "outputs": [
    {
     "data": {
      "text/plain": [
       "[('peole', 0.6058608293533325),\n",
       " ('poeple', 0.5907129049301147),\n",
       " ('individuals', 0.5827618837356567),\n",
       " ('folks', 0.5794459581375122),\n",
       " ('peple', 0.578874409198761),\n",
       " ('peo_ple', 0.5768002271652222),\n",
       " ('peope', 0.5763059854507446),\n",
       " ('citizens', 0.5653228759765625),\n",
       " ('Americans', 0.562726616859436),\n",
       " ('People', 0.562098503112793)]"
      ]
     },
     "execution_count": 13,
     "metadata": {},
     "output_type": "execute_result"
    }
   ],
   "source": [
    "w2v.most_similar('people', topn=10)"
   ]
  },
  {
   "cell_type": "code",
   "execution_count": 14,
   "metadata": {},
   "outputs": [],
   "source": [
    "def find_odd_one_out(words):    \n",
    "\n",
    "    word_vectors = [w2v[word] for word in words]\n",
    "    mean_vector = np.mean(word_vectors, axis=0)\n",
    "    print(mean_vector.shape)\n",
    "    \n",
    "    odd_one = None\n",
    "    min_similarity = 1\n",
    "    \n",
    "    for word in words:\n",
    "        sim = cosine_similarity( [w2v[word]], [mean_vector] )\n",
    "        if sim < min_similarity:\n",
    "            min_similarity = sim\n",
    "            odd_one = word\n",
    "    \n",
    "        print(\"Similarity between mean vector and {} = {}\".format(word, min_similarity))\n",
    "            \n",
    "    return odd_one"
   ]
  },
  {
   "cell_type": "code",
   "execution_count": 15,
   "metadata": {},
   "outputs": [
    {
     "name": "stdout",
     "output_type": "stream",
     "text": [
      "(300,)\n",
      "Similarity between mean vector and Apple = [[0.75132143]]\n",
      "Similarity between mean vector and Google = [[0.75132143]]\n",
      "Similarity between mean vector and Facebook = [[0.6587838]]\n",
      "Similarity between mean vector and Microsoft = [[0.6587838]]\n",
      "Similarity between mean vector and Zara = [[0.44133237]]\n"
     ]
    },
    {
     "data": {
      "text/plain": [
       "'Zara'"
      ]
     },
     "execution_count": 15,
     "metadata": {},
     "output_type": "execute_result"
    }
   ],
   "source": [
    "find_odd_one_out([\"Apple\", \"Google\", \"Facebook\", \"Microsoft\", \"Zara\"])"
   ]
  },
  {
   "cell_type": "code",
   "execution_count": null,
   "metadata": {},
   "outputs": [],
   "source": []
  },
  {
   "cell_type": "code",
   "execution_count": null,
   "metadata": {},
   "outputs": [],
   "source": []
  },
  {
   "cell_type": "code",
   "execution_count": 16,
   "metadata": {},
   "outputs": [
    {
     "data": {
      "text/plain": [
       "3000000"
      ]
     },
     "execution_count": 16,
     "metadata": {},
     "output_type": "execute_result"
    }
   ],
   "source": [
    "len(w2v.vocab)"
   ]
  },
  {
   "cell_type": "code",
   "execution_count": 17,
   "metadata": {},
   "outputs": [
    {
     "data": {
      "text/plain": [
       "(300,)"
      ]
     },
     "execution_count": 17,
     "metadata": {},
     "output_type": "execute_result"
    }
   ],
   "source": [
    "w2v[\"man\"].shape"
   ]
  },
  {
   "cell_type": "code",
   "execution_count": 18,
   "metadata": {},
   "outputs": [],
   "source": [
    "# w2v.vocab.keys()"
   ]
  },
  {
   "cell_type": "code",
   "execution_count": 19,
   "metadata": {},
   "outputs": [],
   "source": [
    "# Bad Implementation. Exhaustive Search\n",
    "def find_analogy(words):\n",
    "    # a:b :: c:?\n",
    "    \n",
    "    max_similarity = -1.01\n",
    "    \n",
    "    d = None\n",
    "    \n",
    "    vocabulary = w2v.vocab.keys()\n",
    "    \n",
    "    v_a, v_b, v_c = [w2v[w] for w in words]\n",
    "    \n",
    "    relation_1 = v_b - v_a\n",
    "    \n",
    "    # To find word d such that similarity(|v_b - v_a|, |v_d - v|c|) is maximum\n",
    "    \n",
    "    for word in vocabulary:\n",
    "        if word in words:\n",
    "            continue\n",
    "        \n",
    "        v_d = w2v[word]\n",
    "        relation_2 = v_d - v_c\n",
    "        sim = cosine_similarity([relation_1], [relation_2])\n",
    "        \n",
    "        if sim > max_similarity:\n",
    "            max_similarity = sim\n",
    "            d = word\n",
    "            \n",
    "    return d"
   ]
  },
  {
   "cell_type": "code",
   "execution_count": 20,
   "metadata": {},
   "outputs": [
    {
     "name": "stdout",
     "output_type": "stream",
     "text": [
      "queen\n",
      "Time Taken: 0:10:28.417208\n"
     ]
    }
   ],
   "source": [
    "from datetime import datetime\n",
    "t0 = datetime.now()\n",
    "\n",
    "print(find_analogy([\"man\", \"woman\", \"king\"]))\n",
    "\n",
    "print(\"Time Taken:\", datetime.now() - t0)"
   ]
  },
  {
   "cell_type": "code",
   "execution_count": 164,
   "metadata": {},
   "outputs": [
    {
     "name": "stdout",
     "output_type": "stream",
     "text": [
      "[('queen', 0.7118192911148071)]\n",
      "Time Taken: 0:00:01.558389\n"
     ]
    }
   ],
   "source": [
    "# Using the built-in method\n",
    "t0 = datetime.now()\n",
    "print(w2v.most_similar(positive=['woman', 'king'], negative=['man'], topn=1))\n",
    "print(\"Time Taken:\", datetime.now() - t0)"
   ]
  },
  {
   "cell_type": "code",
   "execution_count": 40,
   "metadata": {},
   "outputs": [],
   "source": [
    "import re\n",
    "f = open('../datasets/sherlock.txt')\n",
    "text = f.read()\n",
    "f.close()\n",
    "\n",
    "data = text[3433:]\n",
    "\n",
    "# data = data.lower()\n",
    "data = re.sub('[^A-Za-z.]+', ' ', data)\n",
    "data = data.split('.')\n",
    "\n",
    "for i in range(len(data)):\n",
    "    data[i] = data[i].split()"
   ]
  },
  {
   "cell_type": "code",
   "execution_count": 41,
   "metadata": {},
   "outputs": [],
   "source": [
    "from gensim.models import Word2Vec\n",
    "model = Word2Vec(data, size=300, window=10, min_count=1)"
   ]
  },
  {
   "cell_type": "code",
   "execution_count": 45,
   "metadata": {},
   "outputs": [
    {
     "data": {
      "text/plain": [
       "[('rates', 0.9255977869033813),\n",
       " ('ruling', 0.9158950448036194),\n",
       " ('severely', 0.9104814529418945),\n",
       " ('Do', 0.9080990552902222),\n",
       " ('sir', 0.9064979553222656),\n",
       " ('mister', 0.9061363935470581),\n",
       " ('Mr', 0.9046266078948975),\n",
       " ('God', 0.9039232730865479),\n",
       " ('fret', 0.9032679200172424),\n",
       " ('Step', 0.8996236324310303)]"
      ]
     },
     "execution_count": 45,
     "metadata": {},
     "output_type": "execute_result"
    }
   ],
   "source": [
    "model.wv.most_similar('Watson')"
   ]
  },
  {
   "cell_type": "code",
   "execution_count": 168,
   "metadata": {},
   "outputs": [],
   "source": [
    "model.wv.save_word2vec_format(\"sherlock_w2v.bin\")"
   ]
  },
  {
   "cell_type": "code",
   "execution_count": null,
   "metadata": {},
   "outputs": [],
   "source": []
  }
 ],
 "metadata": {
  "kernelspec": {
   "display_name": "Python 3",
   "language": "python",
   "name": "python3"
  },
  "language_info": {
   "codemirror_mode": {
    "name": "ipython",
    "version": 3
   },
   "file_extension": ".py",
   "mimetype": "text/x-python",
   "name": "python",
   "nbconvert_exporter": "python",
   "pygments_lexer": "ipython3",
   "version": "3.7.2"
  }
 },
 "nbformat": 4,
 "nbformat_minor": 2
}
