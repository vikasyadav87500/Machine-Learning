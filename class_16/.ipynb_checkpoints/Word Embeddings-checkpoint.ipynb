{
 "cells": [
  {
   "cell_type": "code",
   "execution_count": 19,
   "metadata": {},
   "outputs": [],
   "source": [
    "import numpy as np\n",
    "from matplotlib import pyplot as plt\n",
    "import re\n",
    "from nltk.corpus import stopwords\n",
    "\n",
    "import keras\n",
    "from keras.layers import Dense, Activation, Input, Dropout\n",
    "from keras.models import Model"
   ]
  },
  {
   "cell_type": "code",
   "execution_count": 20,
   "metadata": {},
   "outputs": [],
   "source": [
    "f = open('../Datasets/sherlock.txt')\n",
    "text = f.read()\n",
    "f.close()"
   ]
  },
  {
   "cell_type": "code",
   "execution_count": 21,
   "metadata": {},
   "outputs": [],
   "source": [
    "data = text[3433:]\n",
    "\n",
    "data = data.lower()\n",
    "data = re.sub('[^A-Za-z]+', ' ', data)\n",
    "data = data.split()\n",
    "\n",
    "stop_words = stopwords.words('english')\n",
    "data = [word for word in data if word not in stop_words] # To drastically reduce the size of X"
   ]
  },
  {
   "cell_type": "code",
   "execution_count": 22,
   "metadata": {},
   "outputs": [
    {
     "data": {
      "text/plain": [
       "261745"
      ]
     },
     "execution_count": 22,
     "metadata": {},
     "output_type": "execute_result"
    }
   ],
   "source": [
    "len(data)"
   ]
  },
  {
   "cell_type": "code",
   "execution_count": 23,
   "metadata": {},
   "outputs": [
    {
     "data": {
      "text/plain": [
       "['year',\n",
       " 'took',\n",
       " 'degree',\n",
       " 'doctor',\n",
       " 'medicine',\n",
       " 'university',\n",
       " 'london',\n",
       " 'proceeded',\n",
       " 'netley',\n",
       " 'go']"
      ]
     },
     "execution_count": 23,
     "metadata": {},
     "output_type": "execute_result"
    }
   ],
   "source": [
    "data[:10]"
   ]
  },
  {
   "cell_type": "code",
   "execution_count": 24,
   "metadata": {},
   "outputs": [
    {
     "data": {
      "text/plain": [
       "((17628,), (17628,))"
      ]
     },
     "execution_count": 24,
     "metadata": {},
     "output_type": "execute_result"
    }
   ],
   "source": [
    "vocabulary, counts = np.unique(data, return_counts=True)\n",
    "vocabulary.shape, counts.shape"
   ]
  },
  {
   "cell_type": "code",
   "execution_count": 25,
   "metadata": {},
   "outputs": [
    {
     "data": {
      "text/plain": [
       "((8756,), (8756,))"
      ]
     },
     "execution_count": 25,
     "metadata": {},
     "output_type": "execute_result"
    }
   ],
   "source": [
    "vocabulary, counts = vocabulary[counts > 2], counts[counts > 2]\n",
    "vocabulary.shape, counts.shape"
   ]
  },
  {
   "cell_type": "code",
   "execution_count": null,
   "metadata": {},
   "outputs": [],
   "source": []
  },
  {
   "cell_type": "code",
   "execution_count": 26,
   "metadata": {},
   "outputs": [
    {
     "data": {
      "text/plain": [
       "565"
      ]
     },
     "execution_count": 26,
     "metadata": {},
     "output_type": "execute_result"
    }
   ],
   "source": [
    "(vocabulary == \"bag\").argmax()"
   ]
  },
  {
   "cell_type": "code",
   "execution_count": 27,
   "metadata": {},
   "outputs": [],
   "source": [
    "def get_one_hot_vector(word):\n",
    "    vec = np.zeros((vocabulary.shape[0], ))\n",
    "    index = (vocabulary == word).argmax()\n",
    "    vec[index] = 1\n",
    "    return vec"
   ]
  },
  {
   "cell_type": "code",
   "execution_count": 28,
   "metadata": {},
   "outputs": [
    {
     "data": {
      "text/plain": [
       "565"
      ]
     },
     "execution_count": 28,
     "metadata": {},
     "output_type": "execute_result"
    }
   ],
   "source": [
    "get_one_hot_vector(\"bag\").argmax()"
   ]
  },
  {
   "cell_type": "code",
   "execution_count": 29,
   "metadata": {},
   "outputs": [
    {
     "data": {
      "text/plain": [
       "(261745, 8756)"
      ]
     },
     "execution_count": 29,
     "metadata": {},
     "output_type": "execute_result"
    }
   ],
   "source": [
    "dataset = []\n",
    "for word in data:\n",
    "    dataset.append(get_one_hot_vector(word))\n",
    "dataset = np.asarray(dataset)\n",
    "dataset.shape"
   ]
  },
  {
   "cell_type": "code",
   "execution_count": 30,
   "metadata": {},
   "outputs": [
    {
     "name": "stdout",
     "output_type": "stream",
     "text": [
      "year\n",
      "took\n",
      "degree\n",
      "doctor\n",
      "medicine\n",
      "university\n",
      "london\n",
      "proceeded\n",
      "aback\n",
      "go\n"
     ]
    }
   ],
   "source": [
    "for i in range(10):\n",
    "    print (vocabulary[dataset[i].argmax()])"
   ]
  },
  {
   "cell_type": "code",
   "execution_count": 31,
   "metadata": {},
   "outputs": [
    {
     "name": "stdout",
     "output_type": "stream",
     "text": [
      "[0. 0. 0. ... 0. 0. 0.] (17512,) (261744, 17512)\n"
     ]
    }
   ],
   "source": [
    "X = np.zeros((dataset.shape[0]-1, dataset.shape[1]*2)) # Bigram\n",
    "\n",
    "for i in range(X.shape[0]-1):\n",
    "    X[i] = np.hstack((dataset[i], dataset[i+1]))\n",
    "    \n",
    "print(X[0], X[0].shape, X.shape)"
   ]
  },
  {
   "cell_type": "code",
   "execution_count": 32,
   "metadata": {},
   "outputs": [
    {
     "data": {
      "text/plain": [
       "array([[0., 0., 0., ..., 0., 0., 0.],\n",
       "       [0., 0., 0., ..., 0., 0., 0.],\n",
       "       [0., 0., 0., ..., 0., 0., 0.],\n",
       "       ...,\n",
       "       [0., 0., 0., ..., 0., 0., 0.],\n",
       "       [0., 0., 0., ..., 0., 0., 0.],\n",
       "       [1., 0., 0., ..., 0., 0., 0.]])"
      ]
     },
     "execution_count": 32,
     "metadata": {},
     "output_type": "execute_result"
    }
   ],
   "source": [
    "y = dataset[1:]\n",
    "y"
   ]
  },
  {
   "cell_type": "code",
   "execution_count": 14,
   "metadata": {},
   "outputs": [
    {
     "data": {
      "text/plain": [
       "((261744, 17512), (261744, 8756))"
      ]
     },
     "execution_count": 14,
     "metadata": {},
     "output_type": "execute_result"
    }
   ],
   "source": [
    "X.shape, y.shape"
   ]
  },
  {
   "cell_type": "code",
   "execution_count": 15,
   "metadata": {},
   "outputs": [
    {
     "data": {
      "text/plain": [
       "((222482, 17512), (39262, 17512), (222482, 8756), (39262, 8756))"
      ]
     },
     "execution_count": 15,
     "metadata": {},
     "output_type": "execute_result"
    }
   ],
   "source": [
    "split = int(0.85 * X.shape[0])\n",
    "\n",
    "X_train = X[:split]\n",
    "X_test = X[split:]\n",
    "y_train = y[:split]\n",
    "y_test = y[split:]\n",
    "\n",
    "X_train.shape, X_test.shape, y_train.shape, y_test.shape"
   ]
  },
  {
   "cell_type": "code",
   "execution_count": 16,
   "metadata": {},
   "outputs": [
    {
     "name": "stdout",
     "output_type": "stream",
     "text": [
      "_________________________________________________________________\n",
      "Layer (type)                 Output Shape              Param #   \n",
      "=================================================================\n",
      "input_1 (InputLayer)         (None, 17512)             0         \n",
      "_________________________________________________________________\n",
      "dense_1 (Dense)              (None, 300)               5253900   \n",
      "_________________________________________________________________\n",
      "dropout_1 (Dropout)          (None, 300)               0         \n",
      "_________________________________________________________________\n",
      "dense_2 (Dense)              (None, 8756)              2635556   \n",
      "=================================================================\n",
      "Total params: 7,889,456\n",
      "Trainable params: 7,889,456\n",
      "Non-trainable params: 0\n",
      "_________________________________________________________________\n"
     ]
    }
   ],
   "source": [
    "embedding = 300\n",
    "\n",
    "inp = Input(shape=(17512,))\n",
    "emb = Dense(embedding, activation='tanh')(inp)\n",
    "emb = Dropout(0.4)(emb)\n",
    "out = Dense(8756, activation='softmax')(emb)\n",
    "\n",
    "model = Model(inputs=inp, outputs=out)\n",
    "model.summary()\n",
    "model.compile(loss='categorical_crossentropy', optimizer='adam', metrics=['accuracy'])\n",
    "\n",
    "encoder = Model(inputs=inp, outputs=emb)"
   ]
  },
  {
   "cell_type": "code",
   "execution_count": 17,
   "metadata": {
    "scrolled": false
   },
   "outputs": [
    {
     "name": "stdout",
     "output_type": "stream",
     "text": [
      "Train on 222482 samples, validate on 39262 samples\n",
      "Epoch 1/3\n",
      "222482/222482 [==============================] - 305s 1ms/step - loss: 6.9401 - acc: 0.1717 - val_loss: 4.9208 - val_acc: 0.4134\n",
      "Epoch 2/3\n",
      "222482/222482 [==============================] - 287s 1ms/step - loss: 3.6017 - acc: 0.6162 - val_loss: 2.7934 - val_acc: 0.7623\n",
      "Epoch 3/3\n",
      "222482/222482 [==============================] - 298s 1ms/step - loss: 2.1305 - acc: 0.8298 - val_loss: 1.9262 - val_acc: 0.8697\n"
     ]
    }
   ],
   "source": [
    "hist = model.fit(X_train, y_train,\n",
    "                epochs=3,\n",
    "                shuffle=False,\n",
    "                batch_size=1024,\n",
    "                validation_data=(X_test, y_test))"
   ]
  },
  {
   "cell_type": "code",
   "execution_count": 18,
   "metadata": {},
   "outputs": [
    {
     "data": {
      "image/png": "[encoded data removed]",
      "text/plain": [
       "<Figure size 432x288 with 1 Axes>"
      ]
     },
     "metadata": {
      "needs_background": "light"
     },
     "output_type": "display_data"
    },
    {
     "data": {
      "image/png": "[encoded data removed]",
      "text/plain": [
       "<Figure size 432x288 with 1 Axes>"
      ]
     },
     "metadata": {
      "needs_background": "light"
     },
     "output_type": "display_data"
    }
   ],
   "source": [
    "plt.figure()\n",
    "plt.plot(hist.history['loss'], 'b')\n",
    "plt.plot(hist.history['val_loss'], 'g')\n",
    "plt.show()\n",
    "\n",
    "plt.figure()\n",
    "plt.plot(hist.history['acc'], 'b')\n",
    "plt.plot(hist.history['val_acc'], 'g')\n",
    "plt.show()"
   ]
  },
  {
   "cell_type": "code",
   "execution_count": 19,
   "metadata": {},
   "outputs": [],
   "source": [
    "a = encoder.predict(X)"
   ]
  },
  {
   "cell_type": "code",
   "execution_count": 20,
   "metadata": {},
   "outputs": [
    {
     "name": "stdout",
     "output_type": "stream",
     "text": [
      "8756\n"
     ]
    }
   ],
   "source": [
    "w2v = {}\n",
    "alpha = 0.9\n",
    "\n",
    "for i in range(X.shape[0]):\n",
    "    try:\n",
    "        old_vec = w2v[vocabulary[y[i].argmax()]]\n",
    "        new_vec = alpha*old_vec + (1-alpha)*a[i] # Running Average\n",
    "        w2v[vocabulary[y[i].argmax()]] = new_vec\n",
    "    except:\n",
    "        w2v[vocabulary[y[i].argmax()]] = a[i]\n",
    "print (len(w2v.keys()))"
   ]
  },
  {
   "cell_type": "code",
   "execution_count": 17,
   "metadata": {},
   "outputs": [],
   "source": [
    "def cosine_similarity(v1, v2):\n",
    "    return np.dot(v1, v2)/np.sqrt((v1**2).sum()*(v2**2).sum())"
   ]
  },
  {
   "cell_type": "code",
   "execution_count": 42,
   "metadata": {},
   "outputs": [
    {
     "name": "stdout",
     "output_type": "stream",
     "text": [
      "0.340144\n"
     ]
    }
   ],
   "source": [
    "v1 = w2v['sherlock']\n",
    "v2 = w2v['holmes']\n",
    "print(cosine_similarity(v1, v2))"
   ]
  },
  {
   "cell_type": "code",
   "execution_count": null,
   "metadata": {},
   "outputs": [],
   "source": []
  }
 ],
 "metadata": {
  "kernelspec": {
   "display_name": "Python 3",
   "language": "python",
   "name": "python3"
  },
  "language_info": {
   "codemirror_mode": {
    "name": "ipython",
    "version": 3
   },
   "file_extension": ".py",
   "mimetype": "text/x-python",
   "name": "python",
   "nbconvert_exporter": "python",
   "pygments_lexer": "ipython3",
   "version": "3.7.2"
  }
 },
 "nbformat": 4,
 "nbformat_minor": 2
}
