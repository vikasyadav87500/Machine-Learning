{
 "cells": [
  {
   "cell_type": "markdown",
   "metadata": {},
   "source": [
    "# Natural Language ToolKit (NLTK)"
   ]
  },
  {
   "cell_type": "code",
   "execution_count": 1,
   "metadata": {},
   "outputs": [],
   "source": [
    "import nltk"
   ]
  },
  {
   "cell_type": "code",
   "execution_count": 2,
   "metadata": {},
   "outputs": [],
   "source": [
    "# nltk.download('all-corpora')"
   ]
  },
  {
   "cell_type": "code",
   "execution_count": 2,
   "metadata": {},
   "outputs": [
    {
     "data": {
      "text/plain": [
       "150"
      ]
     },
     "execution_count": 2,
     "metadata": {},
     "output_type": "execute_result"
    }
   ],
   "source": [
    "import json\n",
    "dataset = None\n",
    "\n",
    "with open('quotes.json', 'r') as f:\n",
    "    dataset = json.load(f)\n",
    "\n",
    "len(dataset)"
   ]
  },
  {
   "cell_type": "code",
   "execution_count": 4,
   "metadata": {},
   "outputs": [
    {
     "name": "stdout",
     "output_type": "stream",
     "text": [
      "I'm selfish, impatient and a little insecure. I make mistakes, I am out of control and at times hard to handle. But if you can't handle me at my worst, then you sure as hell don't deserve me at my best.\n"
     ]
    }
   ],
   "source": [
    "quote = dataset[0]['quote']\n",
    "print(quote)"
   ]
  },
  {
   "cell_type": "code",
   "execution_count": 5,
   "metadata": {},
   "outputs": [
    {
     "data": {
      "text/plain": [
       "[\"I'm\",\n",
       " 'selfish,',\n",
       " 'impatient',\n",
       " 'and',\n",
       " 'a',\n",
       " 'little',\n",
       " 'insecure.',\n",
       " 'I',\n",
       " 'make',\n",
       " 'mistakes,',\n",
       " 'I',\n",
       " 'am',\n",
       " 'out',\n",
       " 'of',\n",
       " 'control',\n",
       " 'and',\n",
       " 'at',\n",
       " 'times',\n",
       " 'hard',\n",
       " 'to',\n",
       " 'handle.',\n",
       " 'But',\n",
       " 'if',\n",
       " 'you',\n",
       " \"can't\",\n",
       " 'handle',\n",
       " 'me',\n",
       " 'at',\n",
       " 'my',\n",
       " 'worst,',\n",
       " 'then',\n",
       " 'you',\n",
       " 'sure',\n",
       " 'as',\n",
       " 'hell',\n",
       " \"don't\",\n",
       " 'deserve',\n",
       " 'me',\n",
       " 'at',\n",
       " 'my',\n",
       " 'best.']"
      ]
     },
     "execution_count": 5,
     "metadata": {},
     "output_type": "execute_result"
    }
   ],
   "source": [
    "dataset[0]['quote'].split()"
   ]
  },
  {
   "cell_type": "markdown",
   "metadata": {},
   "source": [
    "# Tokenization"
   ]
  },
  {
   "cell_type": "code",
   "execution_count": 7,
   "metadata": {},
   "outputs": [
    {
     "name": "stdout",
     "output_type": "stream",
     "text": [
      "I'm selfish, impatient and a little insecure. I make mistakes, I am out of control and at times hard to handle. But if you can't handle me at my worst, then you sure as hell don't deserve me at my best.\n"
     ]
    },
    {
     "data": {
      "text/plain": [
       "['I',\n",
       " \"'m\",\n",
       " 'selfish',\n",
       " ',',\n",
       " 'impatient',\n",
       " 'and',\n",
       " 'a',\n",
       " 'little',\n",
       " 'insecure',\n",
       " '.',\n",
       " 'I',\n",
       " 'make',\n",
       " 'mistakes',\n",
       " ',',\n",
       " 'I',\n",
       " 'am',\n",
       " 'out',\n",
       " 'of',\n",
       " 'control',\n",
       " 'and',\n",
       " 'at',\n",
       " 'times',\n",
       " 'hard',\n",
       " 'to',\n",
       " 'handle',\n",
       " '.',\n",
       " 'But',\n",
       " 'if',\n",
       " 'you',\n",
       " 'ca',\n",
       " \"n't\",\n",
       " 'handle',\n",
       " 'me',\n",
       " 'at',\n",
       " 'my',\n",
       " 'worst',\n",
       " ',',\n",
       " 'then',\n",
       " 'you',\n",
       " 'sure',\n",
       " 'as',\n",
       " 'hell',\n",
       " 'do',\n",
       " \"n't\",\n",
       " 'deserve',\n",
       " 'me',\n",
       " 'at',\n",
       " 'my',\n",
       " 'best',\n",
       " '.']"
      ]
     },
     "execution_count": 7,
     "metadata": {},
     "output_type": "execute_result"
    }
   ],
   "source": [
    "from nltk.tokenize import word_tokenize, sent_tokenize\n",
    "\n",
    "print(dataset[0]['quote'])\n",
    "word_tokenize(dataset[0]['quote'])"
   ]
  },
  {
   "cell_type": "code",
   "execution_count": 9,
   "metadata": {},
   "outputs": [
    {
     "data": {
      "text/plain": [
       "\"I'm selfish, impatient and a little insecure. I make mistakes, I am out of control and at times hard to handle. But if you can't handle me at my worst, then you sure as hell don't deserve me at my best.\""
      ]
     },
     "execution_count": 9,
     "metadata": {},
     "output_type": "execute_result"
    }
   ],
   "source": [
    "# dataset[1]['quote']\n",
    "dataset[0]['quote']"
   ]
  },
  {
   "cell_type": "code",
   "execution_count": 10,
   "metadata": {},
   "outputs": [
    {
     "data": {
      "text/plain": [
       "[\"I'm selfish, impatient and a little insecure.\",\n",
       " 'I make mistakes, I am out of control and at times hard to handle.',\n",
       " \"But if you can't handle me at my worst, then you sure as hell don't deserve me at my best.\"]"
      ]
     },
     "execution_count": 10,
     "metadata": {},
     "output_type": "execute_result"
    }
   ],
   "source": [
    "sent_tokenize(dataset[0]['quote'])"
   ]
  },
  {
   "cell_type": "code",
   "execution_count": null,
   "metadata": {},
   "outputs": [],
   "source": []
  },
  {
   "cell_type": "markdown",
   "metadata": {},
   "source": [
    "# Removing stopwords, punctuations"
   ]
  },
  {
   "cell_type": "code",
   "execution_count": 13,
   "metadata": {},
   "outputs": [
    {
     "name": "stdout",
     "output_type": "stream",
     "text": [
      "['i', 'me', 'my', 'myself', 'we', 'our', 'ours', 'ourselves', 'you', \"you're\", \"you've\", \"you'll\", \"you'd\", 'your', 'yours', 'yourself', 'yourselves', 'he', 'him', 'his', 'himself', 'she', \"she's\", 'her', 'hers', 'herself', 'it', \"it's\", 'its', 'itself', 'they', 'them', 'their', 'theirs', 'themselves', 'what', 'which', 'who', 'whom', 'this', 'that', \"that'll\", 'these', 'those', 'am', 'is', 'are', 'was', 'were', 'be', 'been', 'being', 'have', 'has', 'had', 'having', 'do', 'does', 'did', 'doing', 'a', 'an', 'the', 'and', 'but', 'if', 'or', 'because', 'as', 'until', 'while', 'of', 'at', 'by', 'for', 'with', 'about', 'against', 'between', 'into', 'through', 'during', 'before', 'after', 'above', 'below', 'to', 'from', 'up', 'down', 'in', 'out', 'on', 'off', 'over', 'under', 'again', 'further', 'then', 'once', 'here', 'there', 'when', 'where', 'why', 'how', 'all', 'any', 'both', 'each', 'few', 'more', 'most', 'other', 'some', 'such', 'no', 'nor', 'not', 'only', 'own', 'same', 'so', 'than', 'too', 'very', 's', 't', 'can', 'will', 'just', 'don', \"don't\", 'should', \"should've\", 'now', 'd', 'll', 'm', 'o', 're', 've', 'y', 'ain', 'aren', \"aren't\", 'couldn', \"couldn't\", 'didn', \"didn't\", 'doesn', \"doesn't\", 'hadn', \"hadn't\", 'hasn', \"hasn't\", 'haven', \"haven't\", 'isn', \"isn't\", 'ma', 'mightn', \"mightn't\", 'mustn', \"mustn't\", 'needn', \"needn't\", 'shan', \"shan't\", 'shouldn', \"shouldn't\", 'wasn', \"wasn't\", 'weren', \"weren't\", 'won', \"won't\", 'wouldn', \"wouldn't\"]\n"
     ]
    }
   ],
   "source": [
    "from nltk.corpus import stopwords\n",
    "stop_words = stopwords.words('english')\n",
    "print(stop_words)\n",
    "from string import punctuation\n",
    "punct = list(punctuation)"
   ]
  },
  {
   "cell_type": "code",
   "execution_count": 14,
   "metadata": {},
   "outputs": [
    {
     "name": "stdout",
     "output_type": "stream",
     "text": [
      "Be yourself; everyone else is already taken.\n"
     ]
    },
    {
     "data": {
      "text/plain": [
       "9"
      ]
     },
     "execution_count": 14,
     "metadata": {},
     "output_type": "execute_result"
    }
   ],
   "source": [
    "print(dataset[1]['quote'])\n",
    "tokens = word_tokenize(dataset[1]['quote'])\n",
    "len(tokens)"
   ]
  },
  {
   "cell_type": "code",
   "execution_count": 15,
   "metadata": {},
   "outputs": [
    {
     "name": "stdout",
     "output_type": "stream",
     "text": [
      "['Be', 'everyone', 'else', 'already', 'taken']\n"
     ]
    }
   ],
   "source": [
    "cleaned_tokens = [token for token in tokens if token not in stop_words \n",
    "                  and token not in punctuation]\n",
    "len(cleaned_tokens)\n",
    "print(cleaned_tokens)"
   ]
  },
  {
   "cell_type": "markdown",
   "metadata": {},
   "source": []
  },
  {
   "cell_type": "code",
   "execution_count": null,
   "metadata": {},
   "outputs": [],
   "source": []
  },
  {
   "cell_type": "code",
   "execution_count": null,
   "metadata": {},
   "outputs": [],
   "source": []
  },
  {
   "cell_type": "markdown",
   "metadata": {},
   "source": [
    "# Stemming, Lemmatization"
   ]
  },
  {
   "cell_type": "code",
   "execution_count": 13,
   "metadata": {},
   "outputs": [],
   "source": [
    "from nltk.stem import PorterStemmer, SnowballStemmer\n",
    "from nltk import WordNetLemmatizer\n",
    "\n",
    "ps = PorterStemmer()\n",
    "ss = SnowballStemmer('english')\n",
    "lemmatizer = WordNetLemmatizer()"
   ]
  },
  {
   "cell_type": "code",
   "execution_count": 14,
   "metadata": {},
   "outputs": [
    {
     "name": "stdout",
     "output_type": "stream",
     "text": [
      "jump\n",
      "late\n",
      "assess\n",
      "ran\n",
      "run\n",
      "good\n"
     ]
    }
   ],
   "source": [
    "print(ps.stem('jumping'))\n",
    "print(ps.stem('lately'))\n",
    "print(ps.stem('assess'))\n",
    "print(ps.stem('ran'))\n",
    "\n",
    "print(lemmatizer.lemmatize('ran', 'v'))\n",
    "print(lemmatizer.lemmatize('better', 'a'))"
   ]
  },
  {
   "cell_type": "code",
   "execution_count": 16,
   "metadata": {},
   "outputs": [
    {
     "data": {
      "text/plain": [
       "291"
      ]
     },
     "execution_count": 16,
     "metadata": {},
     "output_type": "execute_result"
    }
   ],
   "source": [
    "all_sentences = []\n",
    "for q in dataset:\n",
    "    quote = q['quote']\n",
    "    for sentence in sent_tokenize(quote):\n",
    "        if len(sentence) > 1:\n",
    "            all_sentences.append(sentence)\n",
    "len(all_sentences)"
   ]
  },
  {
   "cell_type": "code",
   "execution_count": 17,
   "metadata": {},
   "outputs": [
    {
     "data": {
      "text/plain": [
       "[\"I'm selfish, impatient and a little insecure.\",\n",
       " 'I make mistakes, I am out of control and at times hard to handle.',\n",
       " \"But if you can't handle me at my worst, then you sure as hell don't deserve me at my best.\",\n",
       " 'Be yourself; everyone else is already taken.',\n",
       " \"Two things are infinite: the universe and human stupidity; and I'm not sure about the universe.\"]"
      ]
     },
     "execution_count": 17,
     "metadata": {},
     "output_type": "execute_result"
    }
   ],
   "source": [
    "all_sentences[0:5]"
   ]
  },
  {
   "cell_type": "markdown",
   "metadata": {},
   "source": [
    "# Bag of Words"
   ]
  },
  {
   "cell_type": "code",
   "execution_count": 18,
   "metadata": {},
   "outputs": [],
   "source": [
    "from sklearn.feature_extraction.text import CountVectorizer\n",
    "\n",
    "cv = CountVectorizer()\n",
    "vec = cv.fit_transform(all_sentences[:10])"
   ]
  },
  {
   "cell_type": "code",
   "execution_count": 20,
   "metadata": {},
   "outputs": [
    {
     "data": {
      "text/plain": [
       "<10x93 sparse matrix of type '<class 'numpy.int64'>'\n",
       "\twith 115 stored elements in Compressed Sparse Row format>"
      ]
     },
     "execution_count": 20,
     "metadata": {},
     "output_type": "execute_result"
    }
   ],
   "source": [
    "vec"
   ]
  },
  {
   "cell_type": "code",
   "execution_count": 21,
   "metadata": {},
   "outputs": [
    {
     "data": {
      "text/plain": [
       "['I',\n",
       " \"'m\",\n",
       " 'selfish',\n",
       " ',',\n",
       " 'impatient',\n",
       " 'and',\n",
       " 'a',\n",
       " 'little',\n",
       " 'insecure',\n",
       " '.',\n",
       " 'I',\n",
       " 'make',\n",
       " 'mistakes',\n",
       " ',',\n",
       " 'I',\n",
       " 'am',\n",
       " 'out',\n",
       " 'of',\n",
       " 'control',\n",
       " 'and',\n",
       " 'at',\n",
       " 'times',\n",
       " 'hard',\n",
       " 'to',\n",
       " 'handle',\n",
       " '.',\n",
       " 'But',\n",
       " 'if',\n",
       " 'you',\n",
       " 'ca',\n",
       " \"n't\",\n",
       " 'handle',\n",
       " 'me',\n",
       " 'at',\n",
       " 'my',\n",
       " 'worst',\n",
       " ',',\n",
       " 'then',\n",
       " 'you',\n",
       " 'sure',\n",
       " 'as',\n",
       " 'hell',\n",
       " 'do',\n",
       " \"n't\",\n",
       " 'deserve',\n",
       " 'me',\n",
       " 'at',\n",
       " 'my',\n",
       " 'best',\n",
       " '.']"
      ]
     },
     "execution_count": 21,
     "metadata": {},
     "output_type": "execute_result"
    }
   ],
   "source": [
    "word_tokenize(dataset[0]['quote'])"
   ]
  },
  {
   "cell_type": "code",
   "execution_count": 22,
   "metadata": {
    "scrolled": true
   },
   "outputs": [
    {
     "data": {
      "text/plain": [
       "{'selfish': 65,\n",
       " 'impatient': 35,\n",
       " 'and': 3,\n",
       " 'little': 44,\n",
       " 'insecure': 38,\n",
       " 'make': 48,\n",
       " 'mistakes': 53,\n",
       " 'am': 2,\n",
       " 'out': 60,\n",
       " 'of': 58,\n",
       " 'control': 16,\n",
       " 'at': 7,\n",
       " 'times': 79,\n",
       " 'hard': 29,\n",
       " 'to': 80,\n",
       " 'handle': 28,\n",
       " 'but': 14,\n",
       " 'if': 34,\n",
       " 'you': 90,\n",
       " 'can': 15,\n",
       " 'me': 51,\n",
       " 'my': 54,\n",
       " 'worst': 89,\n",
       " 'then': 74,\n",
       " 'sure': 70,\n",
       " 'as': 5,\n",
       " 'hell': 31,\n",
       " 'don': 19,\n",
       " 'deserve': 18,\n",
       " 'best': 10,\n",
       " 'be': 8,\n",
       " 'yourself': 92,\n",
       " 'everyone': 23,\n",
       " 'else': 22,\n",
       " 'is': 39,\n",
       " 'already': 1,\n",
       " 'taken': 71,\n",
       " 'two': 81,\n",
       " 'things': 76,\n",
       " 'are': 4,\n",
       " 'infinite': 37,\n",
       " 'the': 73,\n",
       " 'universe': 82,\n",
       " 'human': 32,\n",
       " 'stupidity': 69,\n",
       " 'not': 57,\n",
       " 'about': 0,\n",
       " 'so': 67,\n",
       " 'many': 49,\n",
       " 'books': 13,\n",
       " 'time': 78,\n",
       " 'who': 87,\n",
       " 'say': 64,\n",
       " 'what': 85,\n",
       " 'feel': 25,\n",
       " 'because': 9,\n",
       " 'those': 77,\n",
       " 'mind': 52,\n",
       " 'matter': 50,\n",
       " 'room': 63,\n",
       " 'without': 88,\n",
       " 'like': 42,\n",
       " 'body': 12,\n",
       " 'soul': 68,\n",
       " 've': 83,\n",
       " 'gotta': 27,\n",
       " 'dance': 17,\n",
       " 'there': 75,\n",
       " 'nobody': 56,\n",
       " 'watching': 84,\n",
       " 'love': 47,\n",
       " 'll': 46,\n",
       " 'never': 55,\n",
       " 'hurt': 33,\n",
       " 'sing': 66,\n",
       " 'listening': 43,\n",
       " 'live': 45,\n",
       " 'it': 40,\n",
       " 'heaven': 30,\n",
       " 'on': 59,\n",
       " 'earth': 21,\n",
       " 'know': 41,\n",
       " 're': 61,\n",
       " 'in': 36,\n",
       " 'when': 86,\n",
       " 'fall': 24,\n",
       " 'asleep': 6,\n",
       " 'reality': 62,\n",
       " 'finally': 26,\n",
       " 'better': 11,\n",
       " 'than': 72,\n",
       " 'your': 91,\n",
       " 'dreams': 20}"
      ]
     },
     "execution_count": 22,
     "metadata": {},
     "output_type": "execute_result"
    }
   ],
   "source": [
    "cv.vocabulary_"
   ]
  },
  {
   "cell_type": "code",
   "execution_count": 23,
   "metadata": {},
   "outputs": [
    {
     "data": {
      "text/plain": [
       "93"
      ]
     },
     "execution_count": 23,
     "metadata": {},
     "output_type": "execute_result"
    }
   ],
   "source": [
    "len(cv.vocabulary_)"
   ]
  },
  {
   "cell_type": "code",
   "execution_count": 24,
   "metadata": {},
   "outputs": [
    {
     "data": {
      "text/plain": [
       "array([0, 0, 0, 1, 0, 0, 0, 0, 0, 0, 0, 0, 0, 0, 0, 0, 0, 0, 0, 0, 0, 0,\n",
       "       0, 0, 0, 0, 0, 0, 0, 0, 0, 0, 0, 0, 0, 1, 0, 0, 1, 0, 0, 0, 0, 0,\n",
       "       1, 0, 0, 0, 0, 0, 0, 0, 0, 0, 0, 0, 0, 0, 0, 0, 0, 0, 0, 0, 0, 1,\n",
       "       0, 0, 0, 0, 0, 0, 0, 0, 0, 0, 0, 0, 0, 0, 0, 0, 0, 0, 0, 0, 0, 0,\n",
       "       0, 0, 0, 0, 0], dtype=int64)"
      ]
     },
     "execution_count": 24,
     "metadata": {},
     "output_type": "execute_result"
    }
   ],
   "source": [
    "ex = vec.toarray()[0]\n",
    "# len(ex), (ex!=0).sum()\n",
    "ex"
   ]
  },
  {
   "cell_type": "code",
   "execution_count": 23,
   "metadata": {},
   "outputs": [
    {
     "data": {
      "text/plain": [
       "[array(['and', 'impatient', 'insecure', 'little', 'selfish'], dtype='<U9')]"
      ]
     },
     "execution_count": 23,
     "metadata": {},
     "output_type": "execute_result"
    }
   ],
   "source": [
    "cv.inverse_transform(vec.toarray()[0])"
   ]
  },
  {
   "cell_type": "markdown",
   "metadata": {},
   "source": [
    "# Ngrams"
   ]
  },
  {
   "cell_type": "code",
   "execution_count": 24,
   "metadata": {},
   "outputs": [
    {
     "name": "stdout",
     "output_type": "stream",
     "text": [
      "[('This', 'is'), ('is', 'an'), ('an', 'example'), ('example', 'sentence')]\n",
      "[('This', 'is', 'an'), ('is', 'an', 'example'), ('an', 'example', 'sentence')]\n"
     ]
    }
   ],
   "source": [
    "from nltk import bigrams, trigrams, ngrams\n",
    "\n",
    "print(list(bigrams(\"This is an example sentence\".split())))\n",
    "\n",
    "print(list(trigrams(\"This is an example sentence\".split())))"
   ]
  },
  {
   "cell_type": "markdown",
   "metadata": {},
   "source": [
    "# POS Tagging, Named Entity Recognition"
   ]
  },
  {
   "cell_type": "code",
   "execution_count": 25,
   "metadata": {},
   "outputs": [
    {
     "data": {
      "text/plain": [
       "[('I', 'PRP'),\n",
       " (\"'m\", 'VBP'),\n",
       " ('selfish', 'JJ'),\n",
       " (',', ','),\n",
       " ('impatient', 'JJ'),\n",
       " ('and', 'CC'),\n",
       " ('a', 'DT'),\n",
       " ('little', 'JJ'),\n",
       " ('insecure', 'NN'),\n",
       " ('.', '.'),\n",
       " ('I', 'PRP'),\n",
       " ('make', 'VBP'),\n",
       " ('mistakes', 'NNS'),\n",
       " (',', ','),\n",
       " ('I', 'PRP'),\n",
       " ('am', 'VBP'),\n",
       " ('out', 'IN'),\n",
       " ('of', 'IN'),\n",
       " ('control', 'NN'),\n",
       " ('and', 'CC'),\n",
       " ('at', 'IN'),\n",
       " ('times', 'NNS'),\n",
       " ('hard', 'JJ'),\n",
       " ('to', 'TO'),\n",
       " ('handle', 'VB'),\n",
       " ('.', '.'),\n",
       " ('But', 'CC'),\n",
       " ('if', 'IN'),\n",
       " ('you', 'PRP'),\n",
       " ('ca', 'MD'),\n",
       " (\"n't\", 'RB'),\n",
       " ('handle', 'VB'),\n",
       " ('me', 'PRP'),\n",
       " ('at', 'IN'),\n",
       " ('my', 'PRP$'),\n",
       " ('worst', 'JJS'),\n",
       " (',', ','),\n",
       " ('then', 'RB'),\n",
       " ('you', 'PRP'),\n",
       " ('sure', 'VBP'),\n",
       " ('as', 'IN'),\n",
       " ('hell', 'NN'),\n",
       " ('do', 'VBP'),\n",
       " (\"n't\", 'RB'),\n",
       " ('deserve', 'VB'),\n",
       " ('me', 'PRP'),\n",
       " ('at', 'IN'),\n",
       " ('my', 'PRP$'),\n",
       " ('best', 'JJS'),\n",
       " ('.', '.')]"
      ]
     },
     "execution_count": 25,
     "metadata": {},
     "output_type": "execute_result"
    }
   ],
   "source": [
    "from nltk import pos_tag, ne_chunk\n",
    "\n",
    "pos_tag(word_tokenize(dataset[0]['quote']))"
   ]
  },
  {
   "cell_type": "code",
   "execution_count": 26,
   "metadata": {},
   "outputs": [],
   "source": [
    "from nltk.corpus import brown"
   ]
  },
  {
   "cell_type": "code",
   "execution_count": 27,
   "metadata": {},
   "outputs": [
    {
     "data": {
      "text/plain": [
       "['adventure',\n",
       " 'belles_lettres',\n",
       " 'editorial',\n",
       " 'fiction',\n",
       " 'government',\n",
       " 'hobbies',\n",
       " 'humor',\n",
       " 'learned',\n",
       " 'lore',\n",
       " 'mystery',\n",
       " 'news',\n",
       " 'religion',\n",
       " 'reviews',\n",
       " 'romance',\n",
       " 'science_fiction']"
      ]
     },
     "execution_count": 27,
     "metadata": {},
     "output_type": "execute_result"
    }
   ],
   "source": [
    "brown.categories()"
   ]
  },
  {
   "cell_type": "code",
   "execution_count": 28,
   "metadata": {},
   "outputs": [
    {
     "data": {
      "text/plain": [
       "3032"
      ]
     },
     "execution_count": 28,
     "metadata": {},
     "output_type": "execute_result"
    }
   ],
   "source": [
    "sents = brown.sents(categories='government')\n",
    "len(sents)"
   ]
  },
  {
   "cell_type": "code",
   "execution_count": 29,
   "metadata": {},
   "outputs": [
    {
     "data": {
      "text/plain": [
       "'The Office of Business Economics ( OBE ) of the U.S. Department of Commerce provides basic measures of the national economy and current analysis of short-run changes in the economic situation and business outlook .'"
      ]
     },
     "execution_count": 29,
     "metadata": {},
     "output_type": "execute_result"
    }
   ],
   "source": [
    "' '.join(sents[0])"
   ]
  },
  {
   "cell_type": "code",
   "execution_count": 30,
   "metadata": {},
   "outputs": [
    {
     "data": {
      "image/png": "[encoded data removed]",
      "text/plain": [
       "Tree('S', [('The', 'DT'), ('Office', 'NNP'), ('of', 'IN'), Tree('ORGANIZATION', [('Business', 'NNP'), ('Economics', 'NNP')]), ('(', '('), Tree('ORGANIZATION', [('OBE', 'NNP')]), (')', ')'), ('of', 'IN'), ('the', 'DT'), Tree('ORGANIZATION', [('U.S.', 'NNP'), ('Department', 'NNP')]), ('of', 'IN'), Tree('ORGANIZATION', [('Commerce', 'NNP')]), ('provides', 'VBZ'), ('basic', 'JJ'), ('measures', 'NNS'), ('of', 'IN'), ('the', 'DT'), ('national', 'JJ'), ('economy', 'NN'), ('and', 'CC'), ('current', 'JJ'), ('analysis', 'NN'), ('of', 'IN'), ('short-run', 'JJ'), ('changes', 'NNS'), ('in', 'IN'), ('the', 'DT'), ('economic', 'JJ'), ('situation', 'NN'), ('and', 'CC'), ('business', 'NN'), ('outlook', 'NN'), ('.', '.')])"
      ]
     },
     "execution_count": 30,
     "metadata": {},
     "output_type": "execute_result"
    }
   ],
   "source": [
    "ne_chunk(pos_tag(word_tokenize(' '.join(sents[0]))))"
   ]
  },
  {
   "cell_type": "markdown",
   "metadata": {},
   "source": [
    "# TF-IDF\n",
    "#### (Term Frequency - Inverse Document Frequency)"
   ]
  },
  {
   "cell_type": "code",
   "execution_count": 31,
   "metadata": {},
   "outputs": [],
   "source": [
    "from sklearn.feature_extraction.text import TfidfVectorizer\n",
    "\n",
    "tfidf = TfidfVectorizer(ngram_range=(1,3))\n",
    "vec = tfidf.fit_transform(all_sentences)"
   ]
  },
  {
   "cell_type": "code",
   "execution_count": 32,
   "metadata": {},
   "outputs": [
    {
     "data": {
      "text/plain": [
       "<638x13877 sparse matrix of type '<class 'numpy.float64'>'\n",
       "\twith 21724 stored elements in Compressed Sparse Row format>"
      ]
     },
     "execution_count": 32,
     "metadata": {},
     "output_type": "execute_result"
    }
   ],
   "source": [
    "vec"
   ]
  },
  {
   "cell_type": "code",
   "execution_count": 33,
   "metadata": {},
   "outputs": [
    {
     "data": {
      "text/plain": [
       "array([0.11096791, 0.29289839, 0.31156756, 0.31156756, 0.31156756,\n",
       "       0.31156756, 0.29289839, 0.22538258, 0.31156756, 0.29289839,\n",
       "       0.31156756, 0.31156756])"
      ]
     },
     "execution_count": 33,
     "metadata": {},
     "output_type": "execute_result"
    }
   ],
   "source": [
    "v = vec.toarray()[0]\n",
    "v[v!=0]"
   ]
  },
  {
   "cell_type": "code",
   "execution_count": null,
   "metadata": {},
   "outputs": [],
   "source": []
  },
  {
   "cell_type": "code",
   "execution_count": null,
   "metadata": {},
   "outputs": [],
   "source": []
  }
 ],
 "metadata": {
  "kernelspec": {
   "display_name": "Python 3",
   "language": "python",
   "name": "python3"
  },
  "language_info": {
   "codemirror_mode": {
    "name": "ipython",
    "version": 3
   },
   "file_extension": ".py",
   "mimetype": "text/x-python",
   "name": "python",
   "nbconvert_exporter": "python",
   "pygments_lexer": "ipython3",
   "version": "3.7.0"
  }
 },
 "nbformat": 4,
 "nbformat_minor": 2
}
