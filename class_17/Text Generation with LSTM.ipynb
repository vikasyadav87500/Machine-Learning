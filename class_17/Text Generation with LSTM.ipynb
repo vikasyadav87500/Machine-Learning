{
 "cells": [
  {
   "cell_type": "code",
   "execution_count": 1,
   "metadata": {},
   "outputs": [
    {
     "name": "stderr",
     "output_type": "stream",
     "text": [
      "Using Theano backend.\n"
     ]
    }
   ],
   "source": [
    "from keras.models import Sequential\n",
    "from keras.layers import Dense, Activation\n",
    "from keras.layers import LSTM\n",
    "from keras.optimizers import RMSprop\n",
    "from keras.utils.data_utils import get_file\n",
    "import numpy as np\n",
    "import random\n",
    "import sys\n",
    "from matplotlib import pyplot as plt"
   ]
  },
  {
   "cell_type": "code",
   "execution_count": 2,
   "metadata": {},
   "outputs": [
    {
     "name": "stdout",
     "output_type": "stream",
     "text": [
      "Downloading data from https://s3.amazonaws.com/text-datasets/nietzsche.txt\n",
      "606208/600901 [==============================] - 1s 2us/step\n",
      "corpus length: 600893\n"
     ]
    }
   ],
   "source": [
    "path = get_file('nietzsche.txt', origin='https://s3.amazonaws.com/text-datasets/nietzsche.txt')\n",
    "text = open(path).read().lower()\n",
    "print('corpus length:', len(text))"
   ]
  },
  {
   "cell_type": "code",
   "execution_count": 3,
   "metadata": {
    "scrolled": true
   },
   "outputs": [
    {
     "name": "stdout",
     "output_type": "stream",
     "text": [
      "total chars: 57\n"
     ]
    }
   ],
   "source": [
    "chars = sorted(list(set(text)))\n",
    "print('total chars:', len(chars))\n",
    "\n",
    "char_indices = dict((c, i) for i, c in enumerate(chars))\n",
    "indices_char = dict((i, c) for i, c in enumerate(chars))"
   ]
  },
  {
   "cell_type": "code",
   "execution_count": 45,
   "metadata": {},
   "outputs": [
    {
     "name": "stdout",
     "output_type": "stream",
     "text": [
      "9935\n"
     ]
    }
   ],
   "source": [
    "from nltk.tokenize import sent_tokenize\n",
    "# sent = sent_tokenize(text)\n",
    "sent = text.split('\\n')\n",
    "print(len(sent))"
   ]
  },
  {
   "cell_type": "code",
   "execution_count": 46,
   "metadata": {},
   "outputs": [],
   "source": [
    "lengths = []\n",
    "\n",
    "for s in sent:\n",
    "    lengths.append(len(s))"
   ]
  },
  {
   "cell_type": "code",
   "execution_count": 47,
   "metadata": {},
   "outputs": [],
   "source": [
    "uniq, nums = np.unique(np.array(lengths), return_counts=True)\n",
    "# print(uniq)\n",
    "\n",
    "# uniq, nums = np.unique([1,2,1,3,4,2,3,4], return_counts=True)"
   ]
  },
  {
   "cell_type": "code",
   "execution_count": 48,
   "metadata": {},
   "outputs": [
    {
     "data": {
      "image/png": "[encoded data removed]",
      "text/plain": [
       "<Figure size 432x288 with 1 Axes>"
      ]
     },
     "metadata": {
      "needs_background": "light"
     },
     "output_type": "display_data"
    }
   ],
   "source": [
    "plt.plot(nums)\n",
    "plt.show()"
   ]
  },
  {
   "cell_type": "code",
   "execution_count": 9,
   "metadata": {},
   "outputs": [
    {
     "name": "stdout",
     "output_type": "stream",
     "text": [
      "nb sequences: 200281\n"
     ]
    }
   ],
   "source": [
    "maxlen = 50\n",
    "step = 3\n",
    "sentences = []\n",
    "next_chars = []\n",
    "for i in range(0, len(text) - maxlen, step):\n",
    "    sentences.append(text[i: i + maxlen])\n",
    "    next_chars.append(text[i + maxlen])\n",
    "print('nb sequences:', len(sentences))"
   ]
  },
  {
   "cell_type": "code",
   "execution_count": 10,
   "metadata": {},
   "outputs": [
    {
     "data": {
      "text/plain": [
       "200281"
      ]
     },
     "execution_count": 10,
     "metadata": {},
     "output_type": "execute_result"
    }
   ],
   "source": [
    "len(sentences)"
   ]
  },
  {
   "cell_type": "code",
   "execution_count": 11,
   "metadata": {},
   "outputs": [
    {
     "name": "stdout",
     "output_type": "stream",
     "text": [
      "Vectorization...\n"
     ]
    }
   ],
   "source": [
    "print('Vectorization...')\n",
    "X = np.zeros((len(sentences), maxlen, len(chars)), dtype=np.bool)\n",
    "y = np.zeros((len(sentences), len(chars)), dtype=np.bool)\n",
    "for i, sentence in enumerate(sentences):\n",
    "    for t, char in enumerate(sentence):\n",
    "        X[i, t, char_indices[char]] = 1\n",
    "    y[i, char_indices[next_chars[i]]] = 1"
   ]
  },
  {
   "cell_type": "code",
   "execution_count": 13,
   "metadata": {},
   "outputs": [
    {
     "name": "stdout",
     "output_type": "stream",
     "text": [
      "r\n"
     ]
    }
   ],
   "source": [
    "print (indices_char[np.argmax(X[0][1])])\n",
    "# print y[0]"
   ]
  },
  {
   "cell_type": "code",
   "execution_count": 14,
   "metadata": {},
   "outputs": [
    {
     "name": "stdout",
     "output_type": "stream",
     "text": [
      "_________________________________________________________________\n",
      "Layer (type)                 Output Shape              Param #   \n",
      "=================================================================\n",
      "lstm_1 (LSTM)                (None, 128)               95232     \n",
      "_________________________________________________________________\n",
      "dense_1 (Dense)              (None, 57)                7353      \n",
      "_________________________________________________________________\n",
      "activation_1 (Activation)    (None, 57)                0         \n",
      "=================================================================\n",
      "Total params: 102,585\n",
      "Trainable params: 102,585\n",
      "Non-trainable params: 0\n",
      "_________________________________________________________________\n"
     ]
    }
   ],
   "source": [
    "model = Sequential()\n",
    "model.add(LSTM(128, input_shape=(maxlen, len(chars))))\n",
    "model.add(Dense(len(chars)))\n",
    "model.add(Activation('softmax'))\n",
    "\n",
    "model.summary()\n",
    "\n",
    "optimizer = RMSprop(lr=0.01)\n",
    "model.compile(loss='categorical_crossentropy', optimizer=optimizer, metrics=['accuracy'])"
   ]
  },
  {
   "cell_type": "code",
   "execution_count": 43,
   "metadata": {},
   "outputs": [],
   "source": [
    "def sample(preds, temperature=1.0):\n",
    "    preds = np.asarray(preds).astype('float64')\n",
    "    preds = np.log(preds) / temperature\n",
    "    exp_preds = np.exp(preds)\n",
    "    preds = exp_preds / np.sum(exp_preds)\n",
    "    print(\"Smoothened: \", preds)\n",
    "    probas = np.random.multinomial(1, preds, 1)\n",
    "    print(probas)\n",
    "#     return preds\n",
    "    return np.argmax(probas)"
   ]
  },
  {
   "cell_type": "code",
   "execution_count": 42,
   "metadata": {},
   "outputs": [
    {
     "name": "stdout",
     "output_type": "stream",
     "text": [
      "Smoothened:  [0.1963078  0.08253726 0.46690127 0.13701375 0.03470264 0.08253726]\n",
      "[[0 0 1 0 0 0]]\n",
      "[0.2  0.1  0.4  0.15 0.05 0.1 ]\n",
      "[0.1963078  0.08253726 0.46690127 0.13701375 0.03470264 0.08253726]\n"
     ]
    },
    {
     "data": {
      "text/plain": [
       "[<matplotlib.lines.Line2D at 0x151efd6a0>]"
      ]
     },
     "execution_count": 42,
     "metadata": {},
     "output_type": "execute_result"
    },
    {
     "data": {
      "image/png": "[encoded data removed]",
      "text/plain": [
       "<Figure size 432x288 with 1 Axes>"
      ]
     },
     "metadata": {
      "needs_background": "light"
     },
     "output_type": "display_data"
    }
   ],
   "source": [
    "prob = np.array([0.2, 0.1, 0.4, 0.15, 0.05, 0.1])\n",
    "\n",
    "a = sample(prob, temperature=0.8)\n",
    "\n",
    "print (prob)\n",
    "print (a)\n",
    "\n",
    "plt.plot(prob)\n",
    "plt.plot(a, 'r--*')"
   ]
  },
  {
   "cell_type": "code",
   "execution_count": 25,
   "metadata": {},
   "outputs": [
    {
     "name": "stdout",
     "output_type": "stream",
     "text": [
      "\n",
      "--------------------------------------------------\n",
      "Iteration 1\n",
      "Epoch 1/1\n",
      " - 275s - loss: 1.9552 - acc: 0.4286\n",
      "\n",
      "----- diversity: 0.2\n",
      "----- Generating with seed: \"e creation. there still apparently\n",
      "remains that di\"\n",
      "e creation. there still apparently\n",
      "remains that different of the sense of the instinct to the sense of the proble to the present of the formerally and the truth of the sense of the proces the sense to the former of the sense of the free the sense of the process of the contertion of the conditions and and and and and and the were of the sense of the sense of the sense of the proces the sense of the present of the conditions and and and a for the s\n",
      "\n",
      "----- diversity: 0.5\n",
      "----- Generating with seed: \"e creation. there still apparently\n",
      "remains that di\"\n",
      "e creation. there still apparently\n",
      "remains that differently who is the traching espected to the sentertity in the becourses of the sense of the pressives for the fature for the sciences for the sense to the sense of the pression of the most not their senters more to the seems who he is a sentersity, and one to the formerally in a caument of only constitual with the world latic as ant in constitions more that is an endurding to be earisted the ini\n",
      "\n",
      "----- diversity: 1.0\n",
      "----- Generating with seed: \"e creation. there still apparently\n",
      "remains that di\"\n",
      "e creation. there still apparently\n",
      "remains that differed of streagness, and  untenatirals genelotens there, woild, has list fermps ensate and and sonce--to murals more, which therefelongy as the been propationly are fection--to e viliss. itselicies-xidient\n",
      "mystence (atented for a doce,incthing. su\"d eprefitian\n",
      "for spirits and polett and ligft, and\n",
      "artificais and\n",
      "philosopher tred\n",
      "things senouirss, who be inseed otcome for must implative to mo\n",
      "hrea\n",
      "\n",
      "----- diversity: 1.2\n",
      "----- Generating with seed: \"e creation. there still apparently\n",
      "remains that di\"\n",
      "e creation. there still apparently\n",
      "remains that did\n",
      "one\n",
      "imprusiondly beturk gurances gnom \"plate, whrriginsism. \"he tlaim soliaowed, sype, i fref anotheraty steat of into\n",
      "coknd\n",
      "germon conduciess, thing's proid becoke therefortly is whece anoth\n",
      "t  berable,  their grest andasd) as w the nevery\n",
      "to slvertinm sejwe\n",
      "yen pur the actextard more ytheses to rurpered sun, berep,\n",
      "as age\n",
      "(frevilitiem and calutios, in\n",
      "go df alsefoch to retictle and compain\n",
      "alr\n",
      "\n",
      "--------------------------------------------------\n",
      "Iteration 2\n",
      "Epoch 1/1\n",
      " - 280s - loss: 1.6170 - acc: 0.5208\n",
      "\n",
      "----- diversity: 0.2\n",
      "----- Generating with seed: \"inister aspect of the\n",
      "world, and preached annihila\"\n",
      "inister aspect of the\n",
      "world, and preached annihilate and some and sociate of a possible of the some and some and some and something and soul and soul and many one of the some and the sacrifice of all and so be the desires of the some and some and soul of the some world and some and self-considerations and and and some and the some and and the some and the some of the social to the antical science of the science, and some and schopenhauer of the p\n",
      "\n",
      "----- diversity: 0.5\n",
      "----- Generating with seed: \"inister aspect of the\n",
      "world, and preached annihila\"\n",
      "inister aspect of the\n",
      "world, and preached annihilations, and the strong of considerate of strength so and can so prodicary to the same and a constinction of his most more hance of considerate to the delight\n",
      "to a sight of the also the form of unition, and possible, and and are every in the name to a \"common all not really all and in order all, in the personal believes to the such and self-consideration of the intercourse we altemorate and their so\n",
      "\n",
      "----- diversity: 1.0\n",
      "----- Generating with seed: \"inister aspect of the\n",
      "world, and preached annihila\"\n",
      "inister aspect of the\n",
      "world, and preached annihilation which event th,ise soy matire ilfes of benight of supen were as really inthing to the freviond frounder as meate\n",
      " \"briemstoo ; indidebaours, utear one--      ; is fase\n",
      "sxigns--sthous, is digligism saifate and and know have vienes of inful, in sich to when\n",
      "engrage even at, whether\n",
      "arought, theresy derile\n",
      "doubther claig son, there may be\n",
      "on\n",
      "thing islivily sacr and deeftic note--than when\n",
      "long o\n",
      "\n",
      "----- diversity: 1.2\n",
      "----- Generating with seed: \"inister aspect of the\n",
      "world, and preached annihila\"\n",
      "inister aspect of the\n",
      "world, and preached annihilauuranss and humaltaxned ret--sessess; the loke, shom well tartanced and migh\n",
      "nanuss or\n",
      "think-regards hism, dveeuracual prenetor anligity from themgening-existptibeeinh, such if alted not all gracted ise becime\n",
      "our morter,isment, not\n",
      "tadely pasted oneself\n",
      "much at\n",
      "i coored\n",
      "theye--when it wico\n",
      "paining my sting ulbymined--theishot,s\n",
      "wayed ampresed of idonesust contern spaint\n",
      "mower poyted to\n",
      "to madegno\n",
      "\n",
      "--------------------------------------------------\n",
      "Iteration 3\n",
      "Epoch 1/1\n",
      " - 285s - loss: 1.5296 - acc: 0.5435\n",
      "\n",
      "----- diversity: 0.2\n",
      "----- Generating with seed: \"their passions, their good and bad\n",
      "propensities, i\"\n",
      "their passions, their good and bad\n",
      "propensities, in the probable to the sentiments of the sentiments of the sentiments of a present that in the sentiments of the sentiments of the strangerous and all the most sense of the strangeconsess of the free such all the present to a destrain to the sentiments of the present and in the sense of the sense of the sense of the saint of the sense of the sunder the sentiments of the sense of the probable to the\n",
      "\n",
      "----- diversity: 0.5\n",
      "----- Generating with seed: \"their passions, their good and bad\n",
      "propensities, i\"\n",
      "their passions, their good and bad\n",
      "propensities, in the nain that not from the most all such will all one sense oneself on the desire or all the emotions and themselves of the\n",
      "world to the philosopher of the presinture of the forced it say that in properent he respority of for the former and distrarison and a god, the present that in the also the belief and in a moral content it presentias and also the sense would all to the art of a morality of \n",
      "\n",
      "----- diversity: 1.0\n",
      "----- Generating with seed: \"their passions, their good and bad\n",
      "propensities, i\"\n",
      "their passions, their good and bad\n",
      "propensities, itself and i, it desines the mboug shell akino, to the tast in general all\n",
      "in e camebated anything arring, women-chires of that when and\n",
      "master\n",
      "lixedophess in his such one by\n",
      "not are all\n",
      "making and anmeated play right of conthousing of it, anothing\n",
      "fears jespect\n",
      "he is apprariin live breadfwards, that rimillad that had had that the without understand much. the\n",
      "indemandtenness in\n",
      "the\n",
      "crues--or there!\n",
      "\n",
      "----- diversity: 1.2\n",
      "----- Generating with seed: \"their passions, their good and bad\n",
      "propensities, i\"\n",
      "their passions, their good and bad\n",
      "propensities, in reputions praspy a art nay\n",
      "anlut inlevance ofeess of sociolared, bike alroge\n",
      "plasm trke depotion from \n",
      "responeing of\n",
      "life\n",
      "dicran's our question and life, ye obts. but may rifel why mattreed how accosptoy for it as merions of depleesing the adbsvere feeling to ansthlad pessa\"-hapsur ecrititing selosoemven!\n",
      "\n",
      "\n",
      "tagh, many allworce ope, in the \"praihe!\n",
      " s\n",
      "un).\n",
      "\n",
      ": whethain the vylabless commonal does \n",
      "\n",
      "--------------------------------------------------\n",
      "Iteration 4\n",
      "Epoch 1/1\n",
      " - 289s - loss: 1.4840 - acc: 0.5556\n",
      "\n",
      "----- diversity: 0.2\n",
      "----- Generating with seed: \"mself--but whose curiosity\n",
      "always makes him \"come \"\n",
      "mself--but whose curiosity\n",
      "always makes him \"come and all the manifision of the sain and some that the problems of the problems of a morality of the instinct of the continually and the morality and the morality and the former and the more and all the conditions of the contempt the continual and the sain in the great and morality of a morality of the procession of the former of the experience of the one is a the morality and experience of the more\n",
      "\n",
      "----- diversity: 0.5\n",
      "----- Generating with seed: \"mself--but whose curiosity\n",
      "always makes him \"come \"\n",
      "mself--but whose curiosity\n",
      "always makes him \"come of the moment and saint--hear that a the saining and same for the species, of a serious in excess that the cause of the maning that the morality of the same in the world and the mastered in our same man and the will only an interceation of the great processes and like, in every which is a personal the problems of the expression of the one and man of the order of order are the world the will on tha\n",
      "\n",
      "----- diversity: 1.0\n",
      "----- Generating with seed: \"mself--but whose curiosity\n",
      "always makes him \"come \"\n",
      "mself--but whose curiosity\n",
      "always makes him \"come of a more and expression is the attemat furrtion. so the work nogationne with even without\n",
      "anoud, whenher have very confidence are too\n",
      "where these no longers insertion are clarrchorap, may wele concelling the arpined noble iffection a conidediunquitation of be about at theirs corruct man.\n",
      "\n",
      "resught, that a mo men the sceasing--chrietiin, the,\n",
      "for the mrribe by bo again (the jufges: they are the con\n",
      "\n",
      "----- diversity: 1.2\n",
      "----- Generating with seed: \"mself--but whose curiosity\n",
      "always makes him \"come \"\n",
      "mself--but whose curiosity\n",
      "always makes him \"come in\" many, penhaps, i had we rank for it does\n",
      "not\n",
      "taties, adworing-\"inspect sliest--to doubt\n",
      "and than eachhersing bili\n",
      "alecent tirch of megiorx of\n",
      "whom wherewer im and himself worl othourea you\n",
      "emity whether unknown the book of metm(dar, frarted in the treatred to lightemon fict-y of accosptible dphilosior  turilir own-engleatured, \n",
      "as loves : is livim but -distance) short,\n",
      "materevolyness in a morl\n",
      "\n",
      "--------------------------------------------------\n",
      "Iteration 5\n",
      "Epoch 1/1\n",
      " - 289s - loss: 1.4542 - acc: 0.5628\n",
      "\n",
      "----- diversity: 0.2\n",
      "----- Generating with seed: \" were attained with the basest and most\n",
      "despised i\"\n",
      " were attained with the basest and most\n",
      "despised in the subject one and such a self-concerned such as a sentiments on the faith and the suffering and such all the profound the sense of the saint of the saint of the sentiments of the sentiments of the sentiments of the saint of the problem and all the said of the sense of the self-concerned and standpoints of the sentiments of the sentiments of the standard and concerned of the sentiments of the s\n",
      "\n",
      "----- diversity: 0.5\n",
      "----- Generating with seed: \" were attained with the basest and most\n",
      "despised i\"\n",
      " were attained with the basest and most\n",
      "despised in order, of the reasons and belonging in the glation of the frendaming of the\n",
      "sense of the one things and such religion of the interrogation of the any possible as a process and sentiments of the sense in the involuents of the desires, and individuals and who are to say, and such standary that such a seed the feel is the world as the referer in the \"consciences.\n",
      "\n",
      "132. the concerned of the man and \n",
      "\n",
      "----- diversity: 1.0\n",
      "----- Generating with seed: \" were attained with the basest and most\n",
      "despised i\"\n",
      " were attained with the basest and most\n",
      "despised ippolition also which\n",
      "tredislan\n",
      "for the small aoringments to spirituioushest, engreations. illowed reasond, fadity has\n",
      "become fine: but unethic-ble slaw in our enmore\n",
      "for him commander definence others and by such worldings\n",
      "os nots into--the morality is canner has vaniby\n",
      "thing some moical divine symparatings by concevent of any will surfility of the\n",
      "\"atexpen,\" minds it syo's addract to bended freed\n",
      "\n",
      "----- diversity: 1.2\n",
      "----- Generating with seed: \" were attained with the basest and most\n",
      "despised i\"\n",
      " were attained with the basest and most\n",
      "despised into spe,n\n",
      "wherener, and as ag wom an appeeiaicy means and say, what broavoucdes on honest our unfortuzain of otnerd,\n",
      "wcrearnatly long\n",
      "lishers, oking is an in this from mamenoness has errases, when we for gladxed sudfer one-beuretough p\"inthed, euurourne goks rsention,\n",
      "must for its dolemeded dity, beyond\n",
      "suicide, befored they higher the\n",
      "ini, their hingicness\n",
      "ofvers\n",
      "wo bote?- shavein, chirent, so, a\n",
      "\n",
      "--------------------------------------------------\n",
      "Iteration 6\n",
      "Epoch 1/1\n",
      " - 298s - loss: 1.4315 - acc: 0.5685\n",
      "\n",
      "----- diversity: 0.2\n",
      "----- Generating with seed: \"hers, the parents,\n",
      "the environment, in ourselves, \"\n",
      "hers, the parents,\n",
      "the environment, in ourselves, the designing the more consentian and in the faith of the present of the pression of the soul of the possible to the possible of the pain of the power, the more instinct of the will to the possible to the possible to the stronger of the more being to the power, whether the extravent to the most in the pression of the most as the most the power, and the pression of the same man is the most the more\n",
      "\n",
      "----- diversity: 0.5\n",
      "----- Generating with seed: \"hers, the parents,\n",
      "the environment, in ourselves, \"\n",
      "hers, the parents,\n",
      "the environment, in ourselves, as artists of the sense and like the designing\n",
      "with it will a considerate would wait as the a possible and in the conseres the true as the all the soul as it is the contempt and order to god of the tendence of instinct of such a soul and our in the possession of the most himself of the attempt the soul and reason are a power, as a god with offent of ourselves of the get\n",
      "individual wish standard th\n",
      "\n",
      "----- diversity: 1.0\n",
      "----- Generating with seed: \"hers, the parents,\n",
      "the environment, in ourselves, \"\n",
      "hers, the parents,\n",
      "the environment, in ourselves, the alternabity, cartly,\n",
      "we )jeter former\n",
      "fordens, the discovited of kant of righty very sthatise faith, the results of \"tree-\"dighe atexpeitence of themselves of the judgment--the wurnty wrans could not most decrives whoever geter like sings on their examble sepre childer, and\n",
      "tarded at head german viewstaling. the higher man, who trows one becaus vire soth with the bewades is our finest he as th\n",
      "\n",
      "----- diversity: 1.2\n",
      "----- Generating with seed: \"hers, the parents,\n",
      "the environment, in ourselves, \"\n",
      "hers, the parents,\n",
      "the environment, in ourselves, we men bis himpensi:ngeply ethiss, aver froenter eli\", as. whatever ough--becomes un'venrater, the igmestatamous matagre, but the andulom. a fromlly to designians unulikers, and or the making as: foous?;\n",
      "(nealnant this prenation, and event, not to taken stourdentacule? and\n",
      "hypoth point only\n",
      "no taits unconfible to greater the\n",
      "most \"intellebering.\n",
      "\n",
      ": perceciates, agings.--it remank again toly ethics\n",
      "\n",
      "--------------------------------------------------\n",
      "Iteration 7\n",
      "Epoch 1/1\n",
      " - 292s - loss: 1.4146 - acc: 0.5727\n",
      "\n",
      "----- diversity: 0.2\n",
      "----- Generating with seed: \" firmly and forever chained to its place\n",
      "and pilla\"\n",
      " firmly and forever chained to its place\n",
      "and pillate the possible to the same the strong of the instinct of the same of the end of the end of the same the strength of the same being the end the pression of the same with the former of the same the success. the struggle there is a religion of the sense of the same of the same of the same most complete the sense of the one of the same most conscience of the end of the same the same the sense of the \n",
      "\n",
      "----- diversity: 0.5\n",
      "----- Generating with seed: \" firmly and forever chained to its place\n",
      "and pilla\"\n",
      " firmly and forever chained to its place\n",
      "and pillate in the and of the position of the opinion of the unconscious of the same discoverer, in consequent of the most case of the form of the world of its delicate of the artists of the suspicions there are one of the science to not all the fact there is not be delical contempts of the sight of nature of the same and and as they can will not the history of the masters, and with the end of the end the \n",
      "\n",
      "----- diversity: 1.0\n",
      "----- Generating with seed: \" firmly and forever chained to its place\n",
      "and pilla\"\n",
      " firmly and forever chained to its place\n",
      "and pillast recimoss. in the emis of the seriousnes. its own  which the those nowadays hear said.\n",
      "forchip designation and\n",
      "moreaging\n",
      "law,\n",
      "is main specie, lloo-sadose which is a girs\n",
      "for not they all cheloomoutual bases to every which is because there are well precively all thinwing stated, aothing and eprecibet are themselves andings is\n",
      "hruggles\n",
      "they had a period to te\" an\n",
      "all with the heart--in\n",
      "usate\n",
      "to\n",
      "be\n",
      "\n",
      "----- diversity: 1.2\n",
      "----- Generating with seed: \" firmly and forever chained to its place\n",
      "and pilla\"\n",
      " firmly and forever chained to its place\n",
      "and pillargle: astarly good atkposing them effectquit, be dewers\n"
     ]
    },
    {
     "name": "stdout",
     "output_type": "stream",
     "text": [
      "ancorts is or even our ocnast)\n",
      "robority to go \"fixhame. he resdened, sile indoes actions. al lease me of prisonally\n",
      "own byime\n",
      "belongs will after he roust no few into\n",
      "sucpess\n",
      "ghancess \"utptroms,\n",
      "you, maintipest know magils, i\"ness. they eccophed. formersomerury\n",
      "and which go the obsgr\n",
      "wlauston appene?\n",
      "probly a desires whated certain standpicate\n",
      "\n",
      "--------------------------------------------------\n",
      "Iteration 8\n",
      "Epoch 1/1\n",
      " - 294s - loss: 1.4024 - acc: 0.5770\n",
      "\n",
      "----- diversity: 0.2\n",
      "----- Generating with seed: \"ful in questioning and\n",
      "well worth questioning, but\"\n",
      "ful in questioning and\n",
      "well worth questioning, but the individual to the problems of the world and the present of the problems of the same of the problems of the spirituality, of the saint of the formerly the same of the fature of the other that the fact the present and the conditional to the world of the fathing the problems of man of the origin of the intellectual man in the same of the conditional man of the world of the world and the same of \n",
      "\n",
      "----- diversity: 0.5\n",
      "----- Generating with seed: \"ful in questioning and\n",
      "well worth questioning, but\"\n",
      "ful in questioning and\n",
      "well worth questioning, but be it is its mode of the assertion of which the stread of capacity, for the most displain to grows and one all morality has serve the will to given and individual which all the world of lifed not destruction of the fature and the same what has\n",
      "the conduct as the saint of a such as as the truth and happiness of himself and distrustful, the origin of the truth of the forment which to the parties of\n",
      "\n",
      "----- diversity: 1.0\n",
      "----- Generating with seed: \"ful in questioning and\n",
      "well worth questioning, but\"\n",
      "ful in questioning and\n",
      "well worth questioning, but aftervers. (intriet an every the strugians extraorilale; they are aspecially., over-christ veries of consequents, and of gy to !th--part of reviousness whethern with a thought spe hading man of realis, where this extent man\n",
      "had so impart thantally avaid, the best, stinct and the world i f rectain one fureh, to the fract revengerance in showlme, which mfre love a mankind cain tw(rly,\n",
      "the dispress,\n",
      "\n",
      "----- diversity: 1.2\n",
      "----- Generating with seed: \"ful in questioning and\n",
      "well worth questioning, but\"\n",
      "ful in questioning and\n",
      "well worth questioning, but, we construes aay of\n",
      "ximultte: theologicso? byspeap down ssomines\n",
      "of man; of umpopteldained? insid. polectnolance-sposhim-to believish ween states, has peang\n",
      "incloess the rotiver, is we akwraade honergtive world;\n",
      "parts wis it dary by everywhere; one\n",
      "=sma meloo.\n",
      "\n",
      " mea\n",
      ":e actions desire conditted the priplehen of show\n",
      "makes ownned rully those who has\n",
      "at looked his osplitions it is hypverally has ba\n",
      "\n",
      "--------------------------------------------------\n",
      "Iteration 9\n",
      "Epoch 1/1\n",
      " - 299s - loss: 1.3902 - acc: 0.5792\n",
      "\n",
      "----- diversity: 0.2\n",
      "----- Generating with seed: \"worth more than semblance; it\n",
      "is, in fact, the wor\"\n",
      "worth more than semblance; it\n",
      "is, in fact, the world of the sacrificed, and the delight of the morality and more from the highest and the religious the same of the morality of the condition of the same of the highest of the condition of the satisfaction of the sacrificed and the condition of the processess of the same man is a man in the same and the and and and the satisfaction of the same of the highest of the french and present of the same mor\n",
      "\n",
      "----- diversity: 0.5\n",
      "----- Generating with seed: \"worth more than semblance; it\n",
      "is, in fact, the wor\"\n",
      "worth more than semblance; it\n",
      "is, in fact, the world, the more to really, the good on the moral discovering of the morality as their also the partic condociation of the masters of the moral from say as experience of a seepence and their play, wherever the more of condition and strength and a flaith of the degree the still will being to the highest understanding to the first really man is a good strength--the more passion of the contract of the co\n",
      "\n",
      "----- diversity: 1.0\n",
      "----- Generating with seed: \"worth more than semblance; it\n",
      "is, in fact, the wor\"\n",
      "worth more than semblance; it\n",
      "is, in fact, the worr instinct ulfith romn and body to the polite, that a noble compees at all lelity--respon-least to god and cnetures uls.\n",
      "\n",
      "\n",
      "here\n",
      "of scielfy.\n",
      "\n",
      "\n",
      "gererately can offorty hans magniculty according to the tester as a a souls as rank spirituality in themselves.\n",
      "and\n",
      "attersn no really of the\n",
      "poer\" of similar, upon we\n",
      "adom peace wright knout honour\n",
      "just instance, may no vitys go, failbital than todiel error \n",
      "\n",
      "----- diversity: 1.2\n",
      "----- Generating with seed: \"worth more than semblance; it\n",
      "is, in fact, the wor\"\n",
      "worth more than semblance; it\n",
      "is, in fact, the workt of\n",
      "retath for thekstweraw to deplikes somewort,--and irxuctive ones in\"gerness\"\n",
      "glainly bould belse of dangerous, and \n",
      "evenity filre ingidy, they ared fahk no our sirntion to may be opil, onesen\n",
      "an evins\n",
      "ared, homenindst ority be benethites\n",
      "undrogites perspect anewked. howly he be\n",
      "dremply to sta\"maned.\n",
      "\n",
      "\n",
      "1se\n",
      "\n",
      "altest arifed,s or\n",
      "nice of\n",
      "and if ago scihation and raton\n",
      "off his victon arouse, how e\n"
     ]
    }
   ],
   "source": [
    "for iteration in range(1, 10):\n",
    "    print()\n",
    "    print('-' * 50)\n",
    "    print('Iteration', iteration)\n",
    "    model.fit(X, y, shuffle=True,\n",
    "              batch_size=128,\n",
    "              epochs=1, verbose=2)\n",
    "\n",
    "    start_index = random.randint(0, len(text) - maxlen - 1)\n",
    "\n",
    "    for diversity in [0.2, 0.5, 1.0, 1.2]:\n",
    "        print()\n",
    "        print('----- diversity:', diversity)\n",
    "\n",
    "        generated = ''\n",
    "        sentence = text[start_index: start_index + maxlen]\n",
    "        generated += sentence\n",
    "        print('----- Generating with seed: \"' + sentence + '\"')\n",
    "        sys.stdout.write(generated)\n",
    "\n",
    "        for i in range(400):\n",
    "            x = np.zeros((1, maxlen, len(chars)))\n",
    "            for t, char in enumerate(sentence):\n",
    "                x[0, t, char_indices[char]] = 1.\n",
    "\n",
    "            preds = model.predict(x, verbose=0)[0]\n",
    "            next_index = sample(preds, diversity)\n",
    "            next_char = indices_char[next_index]\n",
    "\n",
    "            generated += next_char\n",
    "            sentence = sentence[1:] + next_char\n",
    "\n",
    "            sys.stdout.write(next_char)\n",
    "            sys.stdout.flush()\n",
    "        print()"
   ]
  },
  {
   "cell_type": "code",
   "execution_count": null,
   "metadata": {
    "collapsed": true
   },
   "outputs": [],
   "source": []
  }
 ],
 "metadata": {
  "kernelspec": {
   "display_name": "Python 3",
   "language": "python",
   "name": "python3"
  },
  "language_info": {
   "codemirror_mode": {
    "name": "ipython",
    "version": 3
   },
   "file_extension": ".py",
   "mimetype": "text/x-python",
   "name": "python",
   "nbconvert_exporter": "python",
   "pygments_lexer": "ipython3",
   "version": "3.7.0"
  }
 },
 "nbformat": 4,
 "nbformat_minor": 2
}
