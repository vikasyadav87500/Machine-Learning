{
 "cells": [
  {
   "cell_type": "code",
   "execution_count": 1,
   "metadata": {},
   "outputs": [],
   "source": [
    "import requests\n",
    "from bs4 import BeautifulSoup"
   ]
  },
  {
   "cell_type": "code",
   "execution_count": 2,
   "metadata": {},
   "outputs": [],
   "source": [
    "BASE_URL=\"https://www.goodreads.com/quotes\"\n",
    "response=requests.get(BASE_URL)\n",
    "#print(response.text)"
   ]
  },
  {
   "cell_type": "code",
   "execution_count": 3,
   "metadata": {},
   "outputs": [],
   "source": [
    "soup=BeautifulSoup(response.text,'html.parser')\n",
    "#soup.prettify"
   ]
  },
  {
   "cell_type": "code",
   "execution_count": 15,
   "metadata": {},
   "outputs": [],
   "source": [
    "quotes=soup.find('div',attrs={'class':'quotes'})\n",
    "quotes2=soup.select('div.quotes')\n",
    "#print(quotes)\n"
   ]
  },
  {
   "cell_type": "code",
   "execution_count": 18,
   "metadata": {},
   "outputs": [
    {
     "name": "stdout",
     "output_type": "stream",
     "text": [
      "Enter the number of pages5\n"
     ]
    }
   ],
   "source": [
    "def parser(html_blob):\n",
    "    soup=BeautifulSoup(html_blob,'html.parser')\n",
    "    div_quotes=soup.find('div',attrs={'class':'quotes'})\n",
    "   # print(div_quotes)\n",
    "    div_quote_list=div_quotes.select('div.quote')\n",
    "    for div_quote in div_quote_list:\n",
    "        #print(div_quote)\n",
    "        div_quoteText=div_quote.select_one('div.quoteText')\n",
    "        div_quoteFooter=div_quote.select_one('div.quoteFooter')\n",
    "       # print(div_quoteText)\n",
    "       # print(div_quoteFooter)\n",
    "        div_tags=div_quoteFooter.find('div',attrs={'class':['greyText', 'smallText', 'left']})\n",
    "       # print(div_tags)\n",
    "        tags=[]\n",
    "        if div_tags:\n",
    "            anchor_tags=div_tags.find_all('a')\n",
    "           # print(anchor_tags)\n",
    "            tags=[a.text for a in anchor_tags]\n",
    "            anchor_likes=div_quoteFooter.find('a',attrs={'class':'smallText'})\n",
    "        quote=div_quoteText.text.strip().split('―')\n",
    "        quote, author=quote[0].strip()[1:-1],quote[1].strip()\n",
    "        author=author.split(',')[0]\n",
    "        likes=(int)(anchor_likes.text.replace(' likes',''))\n",
    "       # print(quote)\n",
    "        #print(author)\n",
    "       # print(likes)\n",
    "        quotes.append({'author':author,'quote':quote,'tags':tags,'likes':likes})\n",
    "        \n",
    "        \n",
    "quotes=[]\n",
    "BASE_URL=\"https://www.goodreads.com/quotes?page=\"\n",
    "n=(int)(input(\"Enter the number of pages\"))\n",
    "for i in range(n):\n",
    "    response=requests.get(BASE_URL+(str)(i+1))\n",
    "    parser(response.text)\n",
    "    "
   ]
  },
  {
   "cell_type": "markdown",
   "metadata": {},
   "source": [
    "print(quotes)"
   ]
  },
  {
   "cell_type": "code",
   "execution_count": 20,
   "metadata": {},
   "outputs": [],
   "source": [
    "#print(quotes)"
   ]
  },
  {
   "cell_type": "code",
   "execution_count": 21,
   "metadata": {},
   "outputs": [],
   "source": [
    "import csv\n",
    "\n",
    "with open('quotes.csv','w') as f:\n",
    "    writer=csv.DictWriter(f,fieldnames=['quote','author','tags','likes'])\n",
    "    writer.writeheader()\n",
    "    for q in quotes:\n",
    "        writer.writerow(q)"
   ]
  },
  {
   "cell_type": "code",
   "execution_count": 22,
   "metadata": {},
   "outputs": [
    {
     "data": {
      "text/html": [
       "<div>\n",
       "<style scoped>\n",
       "    .dataframe tbody tr th:only-of-type {\n",
       "        vertical-align: middle;\n",
       "    }\n",
       "\n",
       "    .dataframe tbody tr th {\n",
       "        vertical-align: top;\n",
       "    }\n",
       "\n",
       "    .dataframe thead th {\n",
       "        text-align: right;\n",
       "    }\n",
       "</style>\n",
       "<table border=\"1\" class=\"dataframe\">\n",
       "  <thead>\n",
       "    <tr style=\"text-align: right;\">\n",
       "      <th></th>\n",
       "      <th>quote</th>\n",
       "      <th>author</th>\n",
       "      <th>tags</th>\n",
       "      <th>likes</th>\n",
       "    </tr>\n",
       "  </thead>\n",
       "  <tbody>\n",
       "    <tr>\n",
       "      <th>0</th>\n",
       "      <td>I'm selfish, impatient and a little insecure. ...</td>\n",
       "      <td>Marilyn Monroe</td>\n",
       "      <td>['attributed-no-source', 'best', 'life', 'love...</td>\n",
       "      <td>150072</td>\n",
       "    </tr>\n",
       "    <tr>\n",
       "      <th>1</th>\n",
       "      <td>Be yourself; everyone else is already taken.</td>\n",
       "      <td>Oscar Wilde</td>\n",
       "      <td>['attributed-no-source', 'be-yourself', 'hones...</td>\n",
       "      <td>148357</td>\n",
       "    </tr>\n",
       "    <tr>\n",
       "      <th>2</th>\n",
       "      <td>Two things are infinite: the universe and huma...</td>\n",
       "      <td>Albert Einstein</td>\n",
       "      <td>['attributed-no-source', 'human-nature', 'humo...</td>\n",
       "      <td>131436</td>\n",
       "    </tr>\n",
       "    <tr>\n",
       "      <th>3</th>\n",
       "      <td>So many books, so little time.</td>\n",
       "      <td>Frank Zappa</td>\n",
       "      <td>['books', 'humor']</td>\n",
       "      <td>127345</td>\n",
       "    </tr>\n",
       "    <tr>\n",
       "      <th>4</th>\n",
       "      <td>Be who you are and say what you feel, because ...</td>\n",
       "      <td>Bernard M. Baruch</td>\n",
       "      <td>['ataraxy', 'be-yourself', 'confidence', 'fitt...</td>\n",
       "      <td>120671</td>\n",
       "    </tr>\n",
       "  </tbody>\n",
       "</table>\n",
       "</div>"
      ],
      "text/plain": [
       "                                               quote  ...   likes\n",
       "0  I'm selfish, impatient and a little insecure. ...  ...  150072\n",
       "1       Be yourself; everyone else is already taken.  ...  148357\n",
       "2  Two things are infinite: the universe and huma...  ...  131436\n",
       "3                     So many books, so little time.  ...  127345\n",
       "4  Be who you are and say what you feel, because ...  ...  120671\n",
       "\n",
       "[5 rows x 4 columns]"
      ]
     },
     "execution_count": 22,
     "metadata": {},
     "output_type": "execute_result"
    }
   ],
   "source": [
    "from pandas import read_csv\n",
    "\n",
    "df=read_csv('quotes.csv')\n",
    "df.head()"
   ]
  },
  {
   "cell_type": "code",
   "execution_count": 27,
   "metadata": {},
   "outputs": [],
   "source": [
    "import json\n",
    "with open('quotes.json', 'w') as f:\n",
    "    json.dump(quotes,f,indent=4)"
   ]
  },
  {
   "cell_type": "code",
   "execution_count": null,
   "metadata": {},
   "outputs": [],
   "source": []
  }
 ],
 "metadata": {
  "kernelspec": {
   "display_name": "Python 3",
   "language": "python",
   "name": "python3"
  },
  "language_info": {
   "codemirror_mode": {
    "name": "ipython",
    "version": 3
   },
   "file_extension": ".py",
   "mimetype": "text/x-python",
   "name": "python",
   "nbconvert_exporter": "python",
   "pygments_lexer": "ipython3",
   "version": "3.7.0"
  }
 },
 "nbformat": 4,
 "nbformat_minor": 2
}
